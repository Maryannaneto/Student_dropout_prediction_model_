{
  "cells": [
    {
      "cell_type": "code",
      "execution_count": 9,
      "metadata": {
        "id": "xQQY79vurMm_"
      },
      "outputs": [],
      "source": [
        "# Import Required Packages\n",
        "import pandas as pd\n",
        "import numpy as np\n",
        "import seaborn as sns\n",
        "import matplotlib.pyplot as plt\n",
        "import graphviz\n",
        "#importing the libarries\n",
        "from sklearn.model_selection import train_test_split\n",
        "from sklearn.linear_model import LinearRegression\n",
        "from sklearn.metrics import mean_squared_error\n",
        "from sklearn import metrics\n",
        "pd.set_option('display.max_columns', None)\n",
        "pd.set_option('display.max_rows', None)\n",
        "from sklearn.cluster import KMeans\n",
        "from sklearn.preprocessing import StandardScaler\n",
        "# Loading and examining the dataset"
      ]
    },
    {
      "cell_type": "code",
      "execution_count": 10,
      "metadata": {
        "colab": {
          "base_uri": "https://localhost:8080/",
          "height": 278
        },
        "id": "MbQfwlGas33g",
        "outputId": "473f34fa-c19e-4b5e-83b1-093950deda93"
      },
      "outputs": [
        {
          "output_type": "execute_result",
          "data": {
            "text/plain": [
              "   Marital status  Application mode  Application order  Course  \\\n",
              "0               1                17                  5     171   \n",
              "1               1                15                  1    9254   \n",
              "2               1                 1                  5    9070   \n",
              "3               1                17                  2    9773   \n",
              "4               2                39                  1    8014   \n",
              "\n",
              "   Daytime/evening attendance\\t  Previous qualification  \\\n",
              "0                             1                       1   \n",
              "1                             1                       1   \n",
              "2                             1                       1   \n",
              "3                             1                       1   \n",
              "4                             0                       1   \n",
              "\n",
              "   Previous qualification (grade)  Nacionality  Mother's qualification  \\\n",
              "0                           122.0            1                      19   \n",
              "1                           160.0            1                       1   \n",
              "2                           122.0            1                      37   \n",
              "3                           122.0            1                      38   \n",
              "4                           100.0            1                      37   \n",
              "\n",
              "   Father's qualification  Mother's occupation  Father's occupation  \\\n",
              "0                      12                    5                    9   \n",
              "1                       3                    3                    3   \n",
              "2                      37                    9                    9   \n",
              "3                      37                    5                    3   \n",
              "4                      38                    9                    9   \n",
              "\n",
              "   Admission grade  Displaced  Educational special needs  Debtor  \\\n",
              "0            127.3          1                          0       0   \n",
              "1            142.5          1                          0       0   \n",
              "2            124.8          1                          0       0   \n",
              "3            119.6          1                          0       0   \n",
              "4            141.5          0                          0       0   \n",
              "\n",
              "   Tuition fees up to date  Gender  Scholarship holder  Age at enrollment  \\\n",
              "0                        1       1                   0                 20   \n",
              "1                        0       1                   0                 19   \n",
              "2                        0       1                   0                 19   \n",
              "3                        1       0                   0                 20   \n",
              "4                        1       0                   0                 45   \n",
              "\n",
              "   International  Curricular units 1st sem (credited)  \\\n",
              "0              0                                    0   \n",
              "1              0                                    0   \n",
              "2              0                                    0   \n",
              "3              0                                    0   \n",
              "4              0                                    0   \n",
              "\n",
              "   Curricular units 1st sem (enrolled)  \\\n",
              "0                                    0   \n",
              "1                                    6   \n",
              "2                                    6   \n",
              "3                                    6   \n",
              "4                                    6   \n",
              "\n",
              "   Curricular units 1st sem (evaluations)  \\\n",
              "0                                       0   \n",
              "1                                       6   \n",
              "2                                       0   \n",
              "3                                       8   \n",
              "4                                       9   \n",
              "\n",
              "   Curricular units 1st sem (approved)  Curricular units 1st sem (grade)  \\\n",
              "0                                    0                          0.000000   \n",
              "1                                    6                         14.000000   \n",
              "2                                    0                          0.000000   \n",
              "3                                    6                         13.428571   \n",
              "4                                    5                         12.333333   \n",
              "\n",
              "   Curricular units 1st sem (without evaluations)  \\\n",
              "0                                               0   \n",
              "1                                               0   \n",
              "2                                               0   \n",
              "3                                               0   \n",
              "4                                               0   \n",
              "\n",
              "   Curricular units 2nd sem (credited)  Curricular units 2nd sem (enrolled)  \\\n",
              "0                                    0                                    0   \n",
              "1                                    0                                    6   \n",
              "2                                    0                                    6   \n",
              "3                                    0                                    6   \n",
              "4                                    0                                    6   \n",
              "\n",
              "   Curricular units 2nd sem (evaluations)  \\\n",
              "0                                       0   \n",
              "1                                       6   \n",
              "2                                       0   \n",
              "3                                      10   \n",
              "4                                       6   \n",
              "\n",
              "   Curricular units 2nd sem (approved)  Curricular units 2nd sem (grade)  \\\n",
              "0                                    0                          0.000000   \n",
              "1                                    6                         13.666667   \n",
              "2                                    0                          0.000000   \n",
              "3                                    5                         12.400000   \n",
              "4                                    6                         13.000000   \n",
              "\n",
              "   Curricular units 2nd sem (without evaluations)  Unemployment rate  \\\n",
              "0                                               0               10.8   \n",
              "1                                               0               13.9   \n",
              "2                                               0               10.8   \n",
              "3                                               0                9.4   \n",
              "4                                               0               13.9   \n",
              "\n",
              "   Inflation rate   GDP    Target  \n",
              "0             1.4  1.74   Dropout  \n",
              "1            -0.3  0.79  Graduate  \n",
              "2             1.4  1.74   Dropout  \n",
              "3            -0.8 -3.12  Graduate  \n",
              "4            -0.3  0.79  Graduate  "
            ],
            "text/html": [
              "\n",
              "  <div id=\"df-788ef164-6570-4cc7-8956-d1821f105c55\" class=\"colab-df-container\">\n",
              "    <div>\n",
              "<style scoped>\n",
              "    .dataframe tbody tr th:only-of-type {\n",
              "        vertical-align: middle;\n",
              "    }\n",
              "\n",
              "    .dataframe tbody tr th {\n",
              "        vertical-align: top;\n",
              "    }\n",
              "\n",
              "    .dataframe thead th {\n",
              "        text-align: right;\n",
              "    }\n",
              "</style>\n",
              "<table border=\"1\" class=\"dataframe\">\n",
              "  <thead>\n",
              "    <tr style=\"text-align: right;\">\n",
              "      <th></th>\n",
              "      <th>Marital status</th>\n",
              "      <th>Application mode</th>\n",
              "      <th>Application order</th>\n",
              "      <th>Course</th>\n",
              "      <th>Daytime/evening attendance\\t</th>\n",
              "      <th>Previous qualification</th>\n",
              "      <th>Previous qualification (grade)</th>\n",
              "      <th>Nacionality</th>\n",
              "      <th>Mother's qualification</th>\n",
              "      <th>Father's qualification</th>\n",
              "      <th>Mother's occupation</th>\n",
              "      <th>Father's occupation</th>\n",
              "      <th>Admission grade</th>\n",
              "      <th>Displaced</th>\n",
              "      <th>Educational special needs</th>\n",
              "      <th>Debtor</th>\n",
              "      <th>Tuition fees up to date</th>\n",
              "      <th>Gender</th>\n",
              "      <th>Scholarship holder</th>\n",
              "      <th>Age at enrollment</th>\n",
              "      <th>International</th>\n",
              "      <th>Curricular units 1st sem (credited)</th>\n",
              "      <th>Curricular units 1st sem (enrolled)</th>\n",
              "      <th>Curricular units 1st sem (evaluations)</th>\n",
              "      <th>Curricular units 1st sem (approved)</th>\n",
              "      <th>Curricular units 1st sem (grade)</th>\n",
              "      <th>Curricular units 1st sem (without evaluations)</th>\n",
              "      <th>Curricular units 2nd sem (credited)</th>\n",
              "      <th>Curricular units 2nd sem (enrolled)</th>\n",
              "      <th>Curricular units 2nd sem (evaluations)</th>\n",
              "      <th>Curricular units 2nd sem (approved)</th>\n",
              "      <th>Curricular units 2nd sem (grade)</th>\n",
              "      <th>Curricular units 2nd sem (without evaluations)</th>\n",
              "      <th>Unemployment rate</th>\n",
              "      <th>Inflation rate</th>\n",
              "      <th>GDP</th>\n",
              "      <th>Target</th>\n",
              "    </tr>\n",
              "  </thead>\n",
              "  <tbody>\n",
              "    <tr>\n",
              "      <th>0</th>\n",
              "      <td>1</td>\n",
              "      <td>17</td>\n",
              "      <td>5</td>\n",
              "      <td>171</td>\n",
              "      <td>1</td>\n",
              "      <td>1</td>\n",
              "      <td>122.0</td>\n",
              "      <td>1</td>\n",
              "      <td>19</td>\n",
              "      <td>12</td>\n",
              "      <td>5</td>\n",
              "      <td>9</td>\n",
              "      <td>127.3</td>\n",
              "      <td>1</td>\n",
              "      <td>0</td>\n",
              "      <td>0</td>\n",
              "      <td>1</td>\n",
              "      <td>1</td>\n",
              "      <td>0</td>\n",
              "      <td>20</td>\n",
              "      <td>0</td>\n",
              "      <td>0</td>\n",
              "      <td>0</td>\n",
              "      <td>0</td>\n",
              "      <td>0</td>\n",
              "      <td>0.000000</td>\n",
              "      <td>0</td>\n",
              "      <td>0</td>\n",
              "      <td>0</td>\n",
              "      <td>0</td>\n",
              "      <td>0</td>\n",
              "      <td>0.000000</td>\n",
              "      <td>0</td>\n",
              "      <td>10.8</td>\n",
              "      <td>1.4</td>\n",
              "      <td>1.74</td>\n",
              "      <td>Dropout</td>\n",
              "    </tr>\n",
              "    <tr>\n",
              "      <th>1</th>\n",
              "      <td>1</td>\n",
              "      <td>15</td>\n",
              "      <td>1</td>\n",
              "      <td>9254</td>\n",
              "      <td>1</td>\n",
              "      <td>1</td>\n",
              "      <td>160.0</td>\n",
              "      <td>1</td>\n",
              "      <td>1</td>\n",
              "      <td>3</td>\n",
              "      <td>3</td>\n",
              "      <td>3</td>\n",
              "      <td>142.5</td>\n",
              "      <td>1</td>\n",
              "      <td>0</td>\n",
              "      <td>0</td>\n",
              "      <td>0</td>\n",
              "      <td>1</td>\n",
              "      <td>0</td>\n",
              "      <td>19</td>\n",
              "      <td>0</td>\n",
              "      <td>0</td>\n",
              "      <td>6</td>\n",
              "      <td>6</td>\n",
              "      <td>6</td>\n",
              "      <td>14.000000</td>\n",
              "      <td>0</td>\n",
              "      <td>0</td>\n",
              "      <td>6</td>\n",
              "      <td>6</td>\n",
              "      <td>6</td>\n",
              "      <td>13.666667</td>\n",
              "      <td>0</td>\n",
              "      <td>13.9</td>\n",
              "      <td>-0.3</td>\n",
              "      <td>0.79</td>\n",
              "      <td>Graduate</td>\n",
              "    </tr>\n",
              "    <tr>\n",
              "      <th>2</th>\n",
              "      <td>1</td>\n",
              "      <td>1</td>\n",
              "      <td>5</td>\n",
              "      <td>9070</td>\n",
              "      <td>1</td>\n",
              "      <td>1</td>\n",
              "      <td>122.0</td>\n",
              "      <td>1</td>\n",
              "      <td>37</td>\n",
              "      <td>37</td>\n",
              "      <td>9</td>\n",
              "      <td>9</td>\n",
              "      <td>124.8</td>\n",
              "      <td>1</td>\n",
              "      <td>0</td>\n",
              "      <td>0</td>\n",
              "      <td>0</td>\n",
              "      <td>1</td>\n",
              "      <td>0</td>\n",
              "      <td>19</td>\n",
              "      <td>0</td>\n",
              "      <td>0</td>\n",
              "      <td>6</td>\n",
              "      <td>0</td>\n",
              "      <td>0</td>\n",
              "      <td>0.000000</td>\n",
              "      <td>0</td>\n",
              "      <td>0</td>\n",
              "      <td>6</td>\n",
              "      <td>0</td>\n",
              "      <td>0</td>\n",
              "      <td>0.000000</td>\n",
              "      <td>0</td>\n",
              "      <td>10.8</td>\n",
              "      <td>1.4</td>\n",
              "      <td>1.74</td>\n",
              "      <td>Dropout</td>\n",
              "    </tr>\n",
              "    <tr>\n",
              "      <th>3</th>\n",
              "      <td>1</td>\n",
              "      <td>17</td>\n",
              "      <td>2</td>\n",
              "      <td>9773</td>\n",
              "      <td>1</td>\n",
              "      <td>1</td>\n",
              "      <td>122.0</td>\n",
              "      <td>1</td>\n",
              "      <td>38</td>\n",
              "      <td>37</td>\n",
              "      <td>5</td>\n",
              "      <td>3</td>\n",
              "      <td>119.6</td>\n",
              "      <td>1</td>\n",
              "      <td>0</td>\n",
              "      <td>0</td>\n",
              "      <td>1</td>\n",
              "      <td>0</td>\n",
              "      <td>0</td>\n",
              "      <td>20</td>\n",
              "      <td>0</td>\n",
              "      <td>0</td>\n",
              "      <td>6</td>\n",
              "      <td>8</td>\n",
              "      <td>6</td>\n",
              "      <td>13.428571</td>\n",
              "      <td>0</td>\n",
              "      <td>0</td>\n",
              "      <td>6</td>\n",
              "      <td>10</td>\n",
              "      <td>5</td>\n",
              "      <td>12.400000</td>\n",
              "      <td>0</td>\n",
              "      <td>9.4</td>\n",
              "      <td>-0.8</td>\n",
              "      <td>-3.12</td>\n",
              "      <td>Graduate</td>\n",
              "    </tr>\n",
              "    <tr>\n",
              "      <th>4</th>\n",
              "      <td>2</td>\n",
              "      <td>39</td>\n",
              "      <td>1</td>\n",
              "      <td>8014</td>\n",
              "      <td>0</td>\n",
              "      <td>1</td>\n",
              "      <td>100.0</td>\n",
              "      <td>1</td>\n",
              "      <td>37</td>\n",
              "      <td>38</td>\n",
              "      <td>9</td>\n",
              "      <td>9</td>\n",
              "      <td>141.5</td>\n",
              "      <td>0</td>\n",
              "      <td>0</td>\n",
              "      <td>0</td>\n",
              "      <td>1</td>\n",
              "      <td>0</td>\n",
              "      <td>0</td>\n",
              "      <td>45</td>\n",
              "      <td>0</td>\n",
              "      <td>0</td>\n",
              "      <td>6</td>\n",
              "      <td>9</td>\n",
              "      <td>5</td>\n",
              "      <td>12.333333</td>\n",
              "      <td>0</td>\n",
              "      <td>0</td>\n",
              "      <td>6</td>\n",
              "      <td>6</td>\n",
              "      <td>6</td>\n",
              "      <td>13.000000</td>\n",
              "      <td>0</td>\n",
              "      <td>13.9</td>\n",
              "      <td>-0.3</td>\n",
              "      <td>0.79</td>\n",
              "      <td>Graduate</td>\n",
              "    </tr>\n",
              "  </tbody>\n",
              "</table>\n",
              "</div>\n",
              "    <div class=\"colab-df-buttons\">\n",
              "\n",
              "  <div class=\"colab-df-container\">\n",
              "    <button class=\"colab-df-convert\" onclick=\"convertToInteractive('df-788ef164-6570-4cc7-8956-d1821f105c55')\"\n",
              "            title=\"Convert this dataframe to an interactive table.\"\n",
              "            style=\"display:none;\">\n",
              "\n",
              "  <svg xmlns=\"http://www.w3.org/2000/svg\" height=\"24px\" viewBox=\"0 -960 960 960\">\n",
              "    <path d=\"M120-120v-720h720v720H120Zm60-500h600v-160H180v160Zm220 220h160v-160H400v160Zm0 220h160v-160H400v160ZM180-400h160v-160H180v160Zm440 0h160v-160H620v160ZM180-180h160v-160H180v160Zm440 0h160v-160H620v160Z\"/>\n",
              "  </svg>\n",
              "    </button>\n",
              "\n",
              "  <style>\n",
              "    .colab-df-container {\n",
              "      display:flex;\n",
              "      gap: 12px;\n",
              "    }\n",
              "\n",
              "    .colab-df-convert {\n",
              "      background-color: #E8F0FE;\n",
              "      border: none;\n",
              "      border-radius: 50%;\n",
              "      cursor: pointer;\n",
              "      display: none;\n",
              "      fill: #1967D2;\n",
              "      height: 32px;\n",
              "      padding: 0 0 0 0;\n",
              "      width: 32px;\n",
              "    }\n",
              "\n",
              "    .colab-df-convert:hover {\n",
              "      background-color: #E2EBFA;\n",
              "      box-shadow: 0px 1px 2px rgba(60, 64, 67, 0.3), 0px 1px 3px 1px rgba(60, 64, 67, 0.15);\n",
              "      fill: #174EA6;\n",
              "    }\n",
              "\n",
              "    .colab-df-buttons div {\n",
              "      margin-bottom: 4px;\n",
              "    }\n",
              "\n",
              "    [theme=dark] .colab-df-convert {\n",
              "      background-color: #3B4455;\n",
              "      fill: #D2E3FC;\n",
              "    }\n",
              "\n",
              "    [theme=dark] .colab-df-convert:hover {\n",
              "      background-color: #434B5C;\n",
              "      box-shadow: 0px 1px 3px 1px rgba(0, 0, 0, 0.15);\n",
              "      filter: drop-shadow(0px 1px 2px rgba(0, 0, 0, 0.3));\n",
              "      fill: #FFFFFF;\n",
              "    }\n",
              "  </style>\n",
              "\n",
              "    <script>\n",
              "      const buttonEl =\n",
              "        document.querySelector('#df-788ef164-6570-4cc7-8956-d1821f105c55 button.colab-df-convert');\n",
              "      buttonEl.style.display =\n",
              "        google.colab.kernel.accessAllowed ? 'block' : 'none';\n",
              "\n",
              "      async function convertToInteractive(key) {\n",
              "        const element = document.querySelector('#df-788ef164-6570-4cc7-8956-d1821f105c55');\n",
              "        const dataTable =\n",
              "          await google.colab.kernel.invokeFunction('convertToInteractive',\n",
              "                                                    [key], {});\n",
              "        if (!dataTable) return;\n",
              "\n",
              "        const docLinkHtml = 'Like what you see? Visit the ' +\n",
              "          '<a target=\"_blank\" href=https://colab.research.google.com/notebooks/data_table.ipynb>data table notebook</a>'\n",
              "          + ' to learn more about interactive tables.';\n",
              "        element.innerHTML = '';\n",
              "        dataTable['output_type'] = 'display_data';\n",
              "        await google.colab.output.renderOutput(dataTable, element);\n",
              "        const docLink = document.createElement('div');\n",
              "        docLink.innerHTML = docLinkHtml;\n",
              "        element.appendChild(docLink);\n",
              "      }\n",
              "    </script>\n",
              "  </div>\n",
              "\n",
              "\n",
              "<div id=\"df-b6b0bab2-e452-458b-8d16-8044b455b463\">\n",
              "  <button class=\"colab-df-quickchart\" onclick=\"quickchart('df-b6b0bab2-e452-458b-8d16-8044b455b463')\"\n",
              "            title=\"Suggest charts\"\n",
              "            style=\"display:none;\">\n",
              "\n",
              "<svg xmlns=\"http://www.w3.org/2000/svg\" height=\"24px\"viewBox=\"0 0 24 24\"\n",
              "     width=\"24px\">\n",
              "    <g>\n",
              "        <path d=\"M19 3H5c-1.1 0-2 .9-2 2v14c0 1.1.9 2 2 2h14c1.1 0 2-.9 2-2V5c0-1.1-.9-2-2-2zM9 17H7v-7h2v7zm4 0h-2V7h2v10zm4 0h-2v-4h2v4z\"/>\n",
              "    </g>\n",
              "</svg>\n",
              "  </button>\n",
              "\n",
              "<style>\n",
              "  .colab-df-quickchart {\n",
              "      --bg-color: #E8F0FE;\n",
              "      --fill-color: #1967D2;\n",
              "      --hover-bg-color: #E2EBFA;\n",
              "      --hover-fill-color: #174EA6;\n",
              "      --disabled-fill-color: #AAA;\n",
              "      --disabled-bg-color: #DDD;\n",
              "  }\n",
              "\n",
              "  [theme=dark] .colab-df-quickchart {\n",
              "      --bg-color: #3B4455;\n",
              "      --fill-color: #D2E3FC;\n",
              "      --hover-bg-color: #434B5C;\n",
              "      --hover-fill-color: #FFFFFF;\n",
              "      --disabled-bg-color: #3B4455;\n",
              "      --disabled-fill-color: #666;\n",
              "  }\n",
              "\n",
              "  .colab-df-quickchart {\n",
              "    background-color: var(--bg-color);\n",
              "    border: none;\n",
              "    border-radius: 50%;\n",
              "    cursor: pointer;\n",
              "    display: none;\n",
              "    fill: var(--fill-color);\n",
              "    height: 32px;\n",
              "    padding: 0;\n",
              "    width: 32px;\n",
              "  }\n",
              "\n",
              "  .colab-df-quickchart:hover {\n",
              "    background-color: var(--hover-bg-color);\n",
              "    box-shadow: 0 1px 2px rgba(60, 64, 67, 0.3), 0 1px 3px 1px rgba(60, 64, 67, 0.15);\n",
              "    fill: var(--button-hover-fill-color);\n",
              "  }\n",
              "\n",
              "  .colab-df-quickchart-complete:disabled,\n",
              "  .colab-df-quickchart-complete:disabled:hover {\n",
              "    background-color: var(--disabled-bg-color);\n",
              "    fill: var(--disabled-fill-color);\n",
              "    box-shadow: none;\n",
              "  }\n",
              "\n",
              "  .colab-df-spinner {\n",
              "    border: 2px solid var(--fill-color);\n",
              "    border-color: transparent;\n",
              "    border-bottom-color: var(--fill-color);\n",
              "    animation:\n",
              "      spin 1s steps(1) infinite;\n",
              "  }\n",
              "\n",
              "  @keyframes spin {\n",
              "    0% {\n",
              "      border-color: transparent;\n",
              "      border-bottom-color: var(--fill-color);\n",
              "      border-left-color: var(--fill-color);\n",
              "    }\n",
              "    20% {\n",
              "      border-color: transparent;\n",
              "      border-left-color: var(--fill-color);\n",
              "      border-top-color: var(--fill-color);\n",
              "    }\n",
              "    30% {\n",
              "      border-color: transparent;\n",
              "      border-left-color: var(--fill-color);\n",
              "      border-top-color: var(--fill-color);\n",
              "      border-right-color: var(--fill-color);\n",
              "    }\n",
              "    40% {\n",
              "      border-color: transparent;\n",
              "      border-right-color: var(--fill-color);\n",
              "      border-top-color: var(--fill-color);\n",
              "    }\n",
              "    60% {\n",
              "      border-color: transparent;\n",
              "      border-right-color: var(--fill-color);\n",
              "    }\n",
              "    80% {\n",
              "      border-color: transparent;\n",
              "      border-right-color: var(--fill-color);\n",
              "      border-bottom-color: var(--fill-color);\n",
              "    }\n",
              "    90% {\n",
              "      border-color: transparent;\n",
              "      border-bottom-color: var(--fill-color);\n",
              "    }\n",
              "  }\n",
              "</style>\n",
              "\n",
              "  <script>\n",
              "    async function quickchart(key) {\n",
              "      const quickchartButtonEl =\n",
              "        document.querySelector('#' + key + ' button');\n",
              "      quickchartButtonEl.disabled = true;  // To prevent multiple clicks.\n",
              "      quickchartButtonEl.classList.add('colab-df-spinner');\n",
              "      try {\n",
              "        const charts = await google.colab.kernel.invokeFunction(\n",
              "            'suggestCharts', [key], {});\n",
              "      } catch (error) {\n",
              "        console.error('Error during call to suggestCharts:', error);\n",
              "      }\n",
              "      quickchartButtonEl.classList.remove('colab-df-spinner');\n",
              "      quickchartButtonEl.classList.add('colab-df-quickchart-complete');\n",
              "    }\n",
              "    (() => {\n",
              "      let quickchartButtonEl =\n",
              "        document.querySelector('#df-b6b0bab2-e452-458b-8d16-8044b455b463 button');\n",
              "      quickchartButtonEl.style.display =\n",
              "        google.colab.kernel.accessAllowed ? 'block' : 'none';\n",
              "    })();\n",
              "  </script>\n",
              "</div>\n",
              "\n",
              "    </div>\n",
              "  </div>\n"
            ],
            "application/vnd.google.colaboratory.intrinsic+json": {
              "type": "dataframe",
              "variable_name": "df"
            }
          },
          "metadata": {},
          "execution_count": 10
        }
      ],
      "source": [
        "#load dataset in csv to pandas dataframe\n",
        "df =pd.read_csv('/content/dataset.csv', delimiter=\";\")\n",
        "\n",
        "df.head()"
      ]
    },
    {
      "cell_type": "code",
      "execution_count": 11,
      "metadata": {
        "colab": {
          "base_uri": "https://localhost:8080/"
        },
        "id": "gyiUeRnwz5o4",
        "outputId": "dc56ff48-f0aa-4d9c-9cc1-e98cde2f2b15"
      },
      "outputs": [
        {
          "output_type": "stream",
          "name": "stdout",
          "text": [
            "<class 'pandas.core.frame.DataFrame'>\n",
            "RangeIndex: 4424 entries, 0 to 4423\n",
            "Data columns (total 37 columns):\n",
            " #   Column                                          Non-Null Count  Dtype  \n",
            "---  ------                                          --------------  -----  \n",
            " 0   Marital status                                  4424 non-null   int64  \n",
            " 1   Application mode                                4424 non-null   int64  \n",
            " 2   Application order                               4424 non-null   int64  \n",
            " 3   Course                                          4424 non-null   int64  \n",
            " 4   Daytime/evening attendance\t                     4424 non-null   int64  \n",
            " 5   Previous qualification                          4424 non-null   int64  \n",
            " 6   Previous qualification (grade)                  4424 non-null   float64\n",
            " 7   Nacionality                                     4424 non-null   int64  \n",
            " 8   Mother's qualification                          4424 non-null   int64  \n",
            " 9   Father's qualification                          4424 non-null   int64  \n",
            " 10  Mother's occupation                             4424 non-null   int64  \n",
            " 11  Father's occupation                             4424 non-null   int64  \n",
            " 12  Admission grade                                 4424 non-null   float64\n",
            " 13  Displaced                                       4424 non-null   int64  \n",
            " 14  Educational special needs                       4424 non-null   int64  \n",
            " 15  Debtor                                          4424 non-null   int64  \n",
            " 16  Tuition fees up to date                         4424 non-null   int64  \n",
            " 17  Gender                                          4424 non-null   int64  \n",
            " 18  Scholarship holder                              4424 non-null   int64  \n",
            " 19  Age at enrollment                               4424 non-null   int64  \n",
            " 20  International                                   4424 non-null   int64  \n",
            " 21  Curricular units 1st sem (credited)             4424 non-null   int64  \n",
            " 22  Curricular units 1st sem (enrolled)             4424 non-null   int64  \n",
            " 23  Curricular units 1st sem (evaluations)          4424 non-null   int64  \n",
            " 24  Curricular units 1st sem (approved)             4424 non-null   int64  \n",
            " 25  Curricular units 1st sem (grade)                4424 non-null   float64\n",
            " 26  Curricular units 1st sem (without evaluations)  4424 non-null   int64  \n",
            " 27  Curricular units 2nd sem (credited)             4424 non-null   int64  \n",
            " 28  Curricular units 2nd sem (enrolled)             4424 non-null   int64  \n",
            " 29  Curricular units 2nd sem (evaluations)          4424 non-null   int64  \n",
            " 30  Curricular units 2nd sem (approved)             4424 non-null   int64  \n",
            " 31  Curricular units 2nd sem (grade)                4424 non-null   float64\n",
            " 32  Curricular units 2nd sem (without evaluations)  4424 non-null   int64  \n",
            " 33  Unemployment rate                               4424 non-null   float64\n",
            " 34  Inflation rate                                  4424 non-null   float64\n",
            " 35  GDP                                             4424 non-null   float64\n",
            " 36  Target                                          4424 non-null   object \n",
            "dtypes: float64(7), int64(29), object(1)\n",
            "memory usage: 1.2+ MB\n"
          ]
        }
      ],
      "source": [
        "df.info()"
      ]
    },
    {
      "cell_type": "code",
      "execution_count": 12,
      "metadata": {
        "colab": {
          "base_uri": "https://localhost:8080/",
          "height": 372
        },
        "id": "e503mDB-tdOf",
        "outputId": "4ecbdf9e-93d0-4ab5-848b-870b2cab6089"
      },
      "outputs": [
        {
          "output_type": "execute_result",
          "data": {
            "text/plain": [
              "       Marital status  Application mode  Application order       Course  \\\n",
              "count     4424.000000       4424.000000        4424.000000  4424.000000   \n",
              "mean         1.178571         18.669078           1.727848  8856.642631   \n",
              "std          0.605747         17.484682           1.313793  2063.566416   \n",
              "min          1.000000          1.000000           0.000000    33.000000   \n",
              "25%          1.000000          1.000000           1.000000  9085.000000   \n",
              "50%          1.000000         17.000000           1.000000  9238.000000   \n",
              "75%          1.000000         39.000000           2.000000  9556.000000   \n",
              "max          6.000000         57.000000           9.000000  9991.000000   \n",
              "\n",
              "       Daytime/evening attendance\\t  Previous qualification  \\\n",
              "count                   4424.000000             4424.000000   \n",
              "mean                       0.890823                4.577758   \n",
              "std                        0.311897               10.216592   \n",
              "min                        0.000000                1.000000   \n",
              "25%                        1.000000                1.000000   \n",
              "50%                        1.000000                1.000000   \n",
              "75%                        1.000000                1.000000   \n",
              "max                        1.000000               43.000000   \n",
              "\n",
              "       Previous qualification (grade)  Nacionality  Mother's qualification  \\\n",
              "count                     4424.000000  4424.000000             4424.000000   \n",
              "mean                       132.613314     1.873192               19.561935   \n",
              "std                         13.188332     6.914514               15.603186   \n",
              "min                         95.000000     1.000000                1.000000   \n",
              "25%                        125.000000     1.000000                2.000000   \n",
              "50%                        133.100000     1.000000               19.000000   \n",
              "75%                        140.000000     1.000000               37.000000   \n",
              "max                        190.000000   109.000000               44.000000   \n",
              "\n",
              "       Father's qualification  Mother's occupation  Father's occupation  \\\n",
              "count             4424.000000          4424.000000          4424.000000   \n",
              "mean                22.275316            10.960895            11.032324   \n",
              "std                 15.343108            26.418253            25.263040   \n",
              "min                  1.000000             0.000000             0.000000   \n",
              "25%                  3.000000             4.000000             4.000000   \n",
              "50%                 19.000000             5.000000             7.000000   \n",
              "75%                 37.000000             9.000000             9.000000   \n",
              "max                 44.000000           194.000000           195.000000   \n",
              "\n",
              "       Admission grade    Displaced  Educational special needs       Debtor  \\\n",
              "count      4424.000000  4424.000000                4424.000000  4424.000000   \n",
              "mean        126.978119     0.548373                   0.011528     0.113698   \n",
              "std          14.482001     0.497711                   0.106760     0.317480   \n",
              "min          95.000000     0.000000                   0.000000     0.000000   \n",
              "25%         117.900000     0.000000                   0.000000     0.000000   \n",
              "50%         126.100000     1.000000                   0.000000     0.000000   \n",
              "75%         134.800000     1.000000                   0.000000     0.000000   \n",
              "max         190.000000     1.000000                   1.000000     1.000000   \n",
              "\n",
              "       Tuition fees up to date       Gender  Scholarship holder  \\\n",
              "count              4424.000000  4424.000000         4424.000000   \n",
              "mean                  0.880651     0.351718            0.248418   \n",
              "std                   0.324235     0.477560            0.432144   \n",
              "min                   0.000000     0.000000            0.000000   \n",
              "25%                   1.000000     0.000000            0.000000   \n",
              "50%                   1.000000     0.000000            0.000000   \n",
              "75%                   1.000000     1.000000            0.000000   \n",
              "max                   1.000000     1.000000            1.000000   \n",
              "\n",
              "       Age at enrollment  International  Curricular units 1st sem (credited)  \\\n",
              "count        4424.000000    4424.000000                          4424.000000   \n",
              "mean           23.265145       0.024864                             0.709991   \n",
              "std             7.587816       0.155729                             2.360507   \n",
              "min            17.000000       0.000000                             0.000000   \n",
              "25%            19.000000       0.000000                             0.000000   \n",
              "50%            20.000000       0.000000                             0.000000   \n",
              "75%            25.000000       0.000000                             0.000000   \n",
              "max            70.000000       1.000000                            20.000000   \n",
              "\n",
              "       Curricular units 1st sem (enrolled)  \\\n",
              "count                          4424.000000   \n",
              "mean                              6.270570   \n",
              "std                               2.480178   \n",
              "min                               0.000000   \n",
              "25%                               5.000000   \n",
              "50%                               6.000000   \n",
              "75%                               7.000000   \n",
              "max                              26.000000   \n",
              "\n",
              "       Curricular units 1st sem (evaluations)  \\\n",
              "count                             4424.000000   \n",
              "mean                                 8.299051   \n",
              "std                                  4.179106   \n",
              "min                                  0.000000   \n",
              "25%                                  6.000000   \n",
              "50%                                  8.000000   \n",
              "75%                                 10.000000   \n",
              "max                                 45.000000   \n",
              "\n",
              "       Curricular units 1st sem (approved)  Curricular units 1st sem (grade)  \\\n",
              "count                          4424.000000                       4424.000000   \n",
              "mean                              4.706600                         10.640822   \n",
              "std                               3.094238                          4.843663   \n",
              "min                               0.000000                          0.000000   \n",
              "25%                               3.000000                         11.000000   \n",
              "50%                               5.000000                         12.285714   \n",
              "75%                               6.000000                         13.400000   \n",
              "max                              26.000000                         18.875000   \n",
              "\n",
              "       Curricular units 1st sem (without evaluations)  \\\n",
              "count                                     4424.000000   \n",
              "mean                                         0.137658   \n",
              "std                                          0.690880   \n",
              "min                                          0.000000   \n",
              "25%                                          0.000000   \n",
              "50%                                          0.000000   \n",
              "75%                                          0.000000   \n",
              "max                                         12.000000   \n",
              "\n",
              "       Curricular units 2nd sem (credited)  \\\n",
              "count                          4424.000000   \n",
              "mean                              0.541817   \n",
              "std                               1.918546   \n",
              "min                               0.000000   \n",
              "25%                               0.000000   \n",
              "50%                               0.000000   \n",
              "75%                               0.000000   \n",
              "max                              19.000000   \n",
              "\n",
              "       Curricular units 2nd sem (enrolled)  \\\n",
              "count                          4424.000000   \n",
              "mean                              6.232143   \n",
              "std                               2.195951   \n",
              "min                               0.000000   \n",
              "25%                               5.000000   \n",
              "50%                               6.000000   \n",
              "75%                               7.000000   \n",
              "max                              23.000000   \n",
              "\n",
              "       Curricular units 2nd sem (evaluations)  \\\n",
              "count                             4424.000000   \n",
              "mean                                 8.063291   \n",
              "std                                  3.947951   \n",
              "min                                  0.000000   \n",
              "25%                                  6.000000   \n",
              "50%                                  8.000000   \n",
              "75%                                 10.000000   \n",
              "max                                 33.000000   \n",
              "\n",
              "       Curricular units 2nd sem (approved)  Curricular units 2nd sem (grade)  \\\n",
              "count                          4424.000000                       4424.000000   \n",
              "mean                              4.435805                         10.230206   \n",
              "std                               3.014764                          5.210808   \n",
              "min                               0.000000                          0.000000   \n",
              "25%                               2.000000                         10.750000   \n",
              "50%                               5.000000                         12.200000   \n",
              "75%                               6.000000                         13.333333   \n",
              "max                              20.000000                         18.571429   \n",
              "\n",
              "       Curricular units 2nd sem (without evaluations)  Unemployment rate  \\\n",
              "count                                     4424.000000        4424.000000   \n",
              "mean                                         0.150316          11.566139   \n",
              "std                                          0.753774           2.663850   \n",
              "min                                          0.000000           7.600000   \n",
              "25%                                          0.000000           9.400000   \n",
              "50%                                          0.000000          11.100000   \n",
              "75%                                          0.000000          13.900000   \n",
              "max                                         12.000000          16.200000   \n",
              "\n",
              "       Inflation rate          GDP  \n",
              "count     4424.000000  4424.000000  \n",
              "mean         1.228029     0.001969  \n",
              "std          1.382711     2.269935  \n",
              "min         -0.800000    -4.060000  \n",
              "25%          0.300000    -1.700000  \n",
              "50%          1.400000     0.320000  \n",
              "75%          2.600000     1.790000  \n",
              "max          3.700000     3.510000  "
            ],
            "text/html": [
              "\n",
              "  <div id=\"df-4e947dec-8610-4091-9bf6-1d890ed6daac\" class=\"colab-df-container\">\n",
              "    <div>\n",
              "<style scoped>\n",
              "    .dataframe tbody tr th:only-of-type {\n",
              "        vertical-align: middle;\n",
              "    }\n",
              "\n",
              "    .dataframe tbody tr th {\n",
              "        vertical-align: top;\n",
              "    }\n",
              "\n",
              "    .dataframe thead th {\n",
              "        text-align: right;\n",
              "    }\n",
              "</style>\n",
              "<table border=\"1\" class=\"dataframe\">\n",
              "  <thead>\n",
              "    <tr style=\"text-align: right;\">\n",
              "      <th></th>\n",
              "      <th>Marital status</th>\n",
              "      <th>Application mode</th>\n",
              "      <th>Application order</th>\n",
              "      <th>Course</th>\n",
              "      <th>Daytime/evening attendance\\t</th>\n",
              "      <th>Previous qualification</th>\n",
              "      <th>Previous qualification (grade)</th>\n",
              "      <th>Nacionality</th>\n",
              "      <th>Mother's qualification</th>\n",
              "      <th>Father's qualification</th>\n",
              "      <th>Mother's occupation</th>\n",
              "      <th>Father's occupation</th>\n",
              "      <th>Admission grade</th>\n",
              "      <th>Displaced</th>\n",
              "      <th>Educational special needs</th>\n",
              "      <th>Debtor</th>\n",
              "      <th>Tuition fees up to date</th>\n",
              "      <th>Gender</th>\n",
              "      <th>Scholarship holder</th>\n",
              "      <th>Age at enrollment</th>\n",
              "      <th>International</th>\n",
              "      <th>Curricular units 1st sem (credited)</th>\n",
              "      <th>Curricular units 1st sem (enrolled)</th>\n",
              "      <th>Curricular units 1st sem (evaluations)</th>\n",
              "      <th>Curricular units 1st sem (approved)</th>\n",
              "      <th>Curricular units 1st sem (grade)</th>\n",
              "      <th>Curricular units 1st sem (without evaluations)</th>\n",
              "      <th>Curricular units 2nd sem (credited)</th>\n",
              "      <th>Curricular units 2nd sem (enrolled)</th>\n",
              "      <th>Curricular units 2nd sem (evaluations)</th>\n",
              "      <th>Curricular units 2nd sem (approved)</th>\n",
              "      <th>Curricular units 2nd sem (grade)</th>\n",
              "      <th>Curricular units 2nd sem (without evaluations)</th>\n",
              "      <th>Unemployment rate</th>\n",
              "      <th>Inflation rate</th>\n",
              "      <th>GDP</th>\n",
              "    </tr>\n",
              "  </thead>\n",
              "  <tbody>\n",
              "    <tr>\n",
              "      <th>count</th>\n",
              "      <td>4424.000000</td>\n",
              "      <td>4424.000000</td>\n",
              "      <td>4424.000000</td>\n",
              "      <td>4424.000000</td>\n",
              "      <td>4424.000000</td>\n",
              "      <td>4424.000000</td>\n",
              "      <td>4424.000000</td>\n",
              "      <td>4424.000000</td>\n",
              "      <td>4424.000000</td>\n",
              "      <td>4424.000000</td>\n",
              "      <td>4424.000000</td>\n",
              "      <td>4424.000000</td>\n",
              "      <td>4424.000000</td>\n",
              "      <td>4424.000000</td>\n",
              "      <td>4424.000000</td>\n",
              "      <td>4424.000000</td>\n",
              "      <td>4424.000000</td>\n",
              "      <td>4424.000000</td>\n",
              "      <td>4424.000000</td>\n",
              "      <td>4424.000000</td>\n",
              "      <td>4424.000000</td>\n",
              "      <td>4424.000000</td>\n",
              "      <td>4424.000000</td>\n",
              "      <td>4424.000000</td>\n",
              "      <td>4424.000000</td>\n",
              "      <td>4424.000000</td>\n",
              "      <td>4424.000000</td>\n",
              "      <td>4424.000000</td>\n",
              "      <td>4424.000000</td>\n",
              "      <td>4424.000000</td>\n",
              "      <td>4424.000000</td>\n",
              "      <td>4424.000000</td>\n",
              "      <td>4424.000000</td>\n",
              "      <td>4424.000000</td>\n",
              "      <td>4424.000000</td>\n",
              "      <td>4424.000000</td>\n",
              "    </tr>\n",
              "    <tr>\n",
              "      <th>mean</th>\n",
              "      <td>1.178571</td>\n",
              "      <td>18.669078</td>\n",
              "      <td>1.727848</td>\n",
              "      <td>8856.642631</td>\n",
              "      <td>0.890823</td>\n",
              "      <td>4.577758</td>\n",
              "      <td>132.613314</td>\n",
              "      <td>1.873192</td>\n",
              "      <td>19.561935</td>\n",
              "      <td>22.275316</td>\n",
              "      <td>10.960895</td>\n",
              "      <td>11.032324</td>\n",
              "      <td>126.978119</td>\n",
              "      <td>0.548373</td>\n",
              "      <td>0.011528</td>\n",
              "      <td>0.113698</td>\n",
              "      <td>0.880651</td>\n",
              "      <td>0.351718</td>\n",
              "      <td>0.248418</td>\n",
              "      <td>23.265145</td>\n",
              "      <td>0.024864</td>\n",
              "      <td>0.709991</td>\n",
              "      <td>6.270570</td>\n",
              "      <td>8.299051</td>\n",
              "      <td>4.706600</td>\n",
              "      <td>10.640822</td>\n",
              "      <td>0.137658</td>\n",
              "      <td>0.541817</td>\n",
              "      <td>6.232143</td>\n",
              "      <td>8.063291</td>\n",
              "      <td>4.435805</td>\n",
              "      <td>10.230206</td>\n",
              "      <td>0.150316</td>\n",
              "      <td>11.566139</td>\n",
              "      <td>1.228029</td>\n",
              "      <td>0.001969</td>\n",
              "    </tr>\n",
              "    <tr>\n",
              "      <th>std</th>\n",
              "      <td>0.605747</td>\n",
              "      <td>17.484682</td>\n",
              "      <td>1.313793</td>\n",
              "      <td>2063.566416</td>\n",
              "      <td>0.311897</td>\n",
              "      <td>10.216592</td>\n",
              "      <td>13.188332</td>\n",
              "      <td>6.914514</td>\n",
              "      <td>15.603186</td>\n",
              "      <td>15.343108</td>\n",
              "      <td>26.418253</td>\n",
              "      <td>25.263040</td>\n",
              "      <td>14.482001</td>\n",
              "      <td>0.497711</td>\n",
              "      <td>0.106760</td>\n",
              "      <td>0.317480</td>\n",
              "      <td>0.324235</td>\n",
              "      <td>0.477560</td>\n",
              "      <td>0.432144</td>\n",
              "      <td>7.587816</td>\n",
              "      <td>0.155729</td>\n",
              "      <td>2.360507</td>\n",
              "      <td>2.480178</td>\n",
              "      <td>4.179106</td>\n",
              "      <td>3.094238</td>\n",
              "      <td>4.843663</td>\n",
              "      <td>0.690880</td>\n",
              "      <td>1.918546</td>\n",
              "      <td>2.195951</td>\n",
              "      <td>3.947951</td>\n",
              "      <td>3.014764</td>\n",
              "      <td>5.210808</td>\n",
              "      <td>0.753774</td>\n",
              "      <td>2.663850</td>\n",
              "      <td>1.382711</td>\n",
              "      <td>2.269935</td>\n",
              "    </tr>\n",
              "    <tr>\n",
              "      <th>min</th>\n",
              "      <td>1.000000</td>\n",
              "      <td>1.000000</td>\n",
              "      <td>0.000000</td>\n",
              "      <td>33.000000</td>\n",
              "      <td>0.000000</td>\n",
              "      <td>1.000000</td>\n",
              "      <td>95.000000</td>\n",
              "      <td>1.000000</td>\n",
              "      <td>1.000000</td>\n",
              "      <td>1.000000</td>\n",
              "      <td>0.000000</td>\n",
              "      <td>0.000000</td>\n",
              "      <td>95.000000</td>\n",
              "      <td>0.000000</td>\n",
              "      <td>0.000000</td>\n",
              "      <td>0.000000</td>\n",
              "      <td>0.000000</td>\n",
              "      <td>0.000000</td>\n",
              "      <td>0.000000</td>\n",
              "      <td>17.000000</td>\n",
              "      <td>0.000000</td>\n",
              "      <td>0.000000</td>\n",
              "      <td>0.000000</td>\n",
              "      <td>0.000000</td>\n",
              "      <td>0.000000</td>\n",
              "      <td>0.000000</td>\n",
              "      <td>0.000000</td>\n",
              "      <td>0.000000</td>\n",
              "      <td>0.000000</td>\n",
              "      <td>0.000000</td>\n",
              "      <td>0.000000</td>\n",
              "      <td>0.000000</td>\n",
              "      <td>0.000000</td>\n",
              "      <td>7.600000</td>\n",
              "      <td>-0.800000</td>\n",
              "      <td>-4.060000</td>\n",
              "    </tr>\n",
              "    <tr>\n",
              "      <th>25%</th>\n",
              "      <td>1.000000</td>\n",
              "      <td>1.000000</td>\n",
              "      <td>1.000000</td>\n",
              "      <td>9085.000000</td>\n",
              "      <td>1.000000</td>\n",
              "      <td>1.000000</td>\n",
              "      <td>125.000000</td>\n",
              "      <td>1.000000</td>\n",
              "      <td>2.000000</td>\n",
              "      <td>3.000000</td>\n",
              "      <td>4.000000</td>\n",
              "      <td>4.000000</td>\n",
              "      <td>117.900000</td>\n",
              "      <td>0.000000</td>\n",
              "      <td>0.000000</td>\n",
              "      <td>0.000000</td>\n",
              "      <td>1.000000</td>\n",
              "      <td>0.000000</td>\n",
              "      <td>0.000000</td>\n",
              "      <td>19.000000</td>\n",
              "      <td>0.000000</td>\n",
              "      <td>0.000000</td>\n",
              "      <td>5.000000</td>\n",
              "      <td>6.000000</td>\n",
              "      <td>3.000000</td>\n",
              "      <td>11.000000</td>\n",
              "      <td>0.000000</td>\n",
              "      <td>0.000000</td>\n",
              "      <td>5.000000</td>\n",
              "      <td>6.000000</td>\n",
              "      <td>2.000000</td>\n",
              "      <td>10.750000</td>\n",
              "      <td>0.000000</td>\n",
              "      <td>9.400000</td>\n",
              "      <td>0.300000</td>\n",
              "      <td>-1.700000</td>\n",
              "    </tr>\n",
              "    <tr>\n",
              "      <th>50%</th>\n",
              "      <td>1.000000</td>\n",
              "      <td>17.000000</td>\n",
              "      <td>1.000000</td>\n",
              "      <td>9238.000000</td>\n",
              "      <td>1.000000</td>\n",
              "      <td>1.000000</td>\n",
              "      <td>133.100000</td>\n",
              "      <td>1.000000</td>\n",
              "      <td>19.000000</td>\n",
              "      <td>19.000000</td>\n",
              "      <td>5.000000</td>\n",
              "      <td>7.000000</td>\n",
              "      <td>126.100000</td>\n",
              "      <td>1.000000</td>\n",
              "      <td>0.000000</td>\n",
              "      <td>0.000000</td>\n",
              "      <td>1.000000</td>\n",
              "      <td>0.000000</td>\n",
              "      <td>0.000000</td>\n",
              "      <td>20.000000</td>\n",
              "      <td>0.000000</td>\n",
              "      <td>0.000000</td>\n",
              "      <td>6.000000</td>\n",
              "      <td>8.000000</td>\n",
              "      <td>5.000000</td>\n",
              "      <td>12.285714</td>\n",
              "      <td>0.000000</td>\n",
              "      <td>0.000000</td>\n",
              "      <td>6.000000</td>\n",
              "      <td>8.000000</td>\n",
              "      <td>5.000000</td>\n",
              "      <td>12.200000</td>\n",
              "      <td>0.000000</td>\n",
              "      <td>11.100000</td>\n",
              "      <td>1.400000</td>\n",
              "      <td>0.320000</td>\n",
              "    </tr>\n",
              "    <tr>\n",
              "      <th>75%</th>\n",
              "      <td>1.000000</td>\n",
              "      <td>39.000000</td>\n",
              "      <td>2.000000</td>\n",
              "      <td>9556.000000</td>\n",
              "      <td>1.000000</td>\n",
              "      <td>1.000000</td>\n",
              "      <td>140.000000</td>\n",
              "      <td>1.000000</td>\n",
              "      <td>37.000000</td>\n",
              "      <td>37.000000</td>\n",
              "      <td>9.000000</td>\n",
              "      <td>9.000000</td>\n",
              "      <td>134.800000</td>\n",
              "      <td>1.000000</td>\n",
              "      <td>0.000000</td>\n",
              "      <td>0.000000</td>\n",
              "      <td>1.000000</td>\n",
              "      <td>1.000000</td>\n",
              "      <td>0.000000</td>\n",
              "      <td>25.000000</td>\n",
              "      <td>0.000000</td>\n",
              "      <td>0.000000</td>\n",
              "      <td>7.000000</td>\n",
              "      <td>10.000000</td>\n",
              "      <td>6.000000</td>\n",
              "      <td>13.400000</td>\n",
              "      <td>0.000000</td>\n",
              "      <td>0.000000</td>\n",
              "      <td>7.000000</td>\n",
              "      <td>10.000000</td>\n",
              "      <td>6.000000</td>\n",
              "      <td>13.333333</td>\n",
              "      <td>0.000000</td>\n",
              "      <td>13.900000</td>\n",
              "      <td>2.600000</td>\n",
              "      <td>1.790000</td>\n",
              "    </tr>\n",
              "    <tr>\n",
              "      <th>max</th>\n",
              "      <td>6.000000</td>\n",
              "      <td>57.000000</td>\n",
              "      <td>9.000000</td>\n",
              "      <td>9991.000000</td>\n",
              "      <td>1.000000</td>\n",
              "      <td>43.000000</td>\n",
              "      <td>190.000000</td>\n",
              "      <td>109.000000</td>\n",
              "      <td>44.000000</td>\n",
              "      <td>44.000000</td>\n",
              "      <td>194.000000</td>\n",
              "      <td>195.000000</td>\n",
              "      <td>190.000000</td>\n",
              "      <td>1.000000</td>\n",
              "      <td>1.000000</td>\n",
              "      <td>1.000000</td>\n",
              "      <td>1.000000</td>\n",
              "      <td>1.000000</td>\n",
              "      <td>1.000000</td>\n",
              "      <td>70.000000</td>\n",
              "      <td>1.000000</td>\n",
              "      <td>20.000000</td>\n",
              "      <td>26.000000</td>\n",
              "      <td>45.000000</td>\n",
              "      <td>26.000000</td>\n",
              "      <td>18.875000</td>\n",
              "      <td>12.000000</td>\n",
              "      <td>19.000000</td>\n",
              "      <td>23.000000</td>\n",
              "      <td>33.000000</td>\n",
              "      <td>20.000000</td>\n",
              "      <td>18.571429</td>\n",
              "      <td>12.000000</td>\n",
              "      <td>16.200000</td>\n",
              "      <td>3.700000</td>\n",
              "      <td>3.510000</td>\n",
              "    </tr>\n",
              "  </tbody>\n",
              "</table>\n",
              "</div>\n",
              "    <div class=\"colab-df-buttons\">\n",
              "\n",
              "  <div class=\"colab-df-container\">\n",
              "    <button class=\"colab-df-convert\" onclick=\"convertToInteractive('df-4e947dec-8610-4091-9bf6-1d890ed6daac')\"\n",
              "            title=\"Convert this dataframe to an interactive table.\"\n",
              "            style=\"display:none;\">\n",
              "\n",
              "  <svg xmlns=\"http://www.w3.org/2000/svg\" height=\"24px\" viewBox=\"0 -960 960 960\">\n",
              "    <path d=\"M120-120v-720h720v720H120Zm60-500h600v-160H180v160Zm220 220h160v-160H400v160Zm0 220h160v-160H400v160ZM180-400h160v-160H180v160Zm440 0h160v-160H620v160ZM180-180h160v-160H180v160Zm440 0h160v-160H620v160Z\"/>\n",
              "  </svg>\n",
              "    </button>\n",
              "\n",
              "  <style>\n",
              "    .colab-df-container {\n",
              "      display:flex;\n",
              "      gap: 12px;\n",
              "    }\n",
              "\n",
              "    .colab-df-convert {\n",
              "      background-color: #E8F0FE;\n",
              "      border: none;\n",
              "      border-radius: 50%;\n",
              "      cursor: pointer;\n",
              "      display: none;\n",
              "      fill: #1967D2;\n",
              "      height: 32px;\n",
              "      padding: 0 0 0 0;\n",
              "      width: 32px;\n",
              "    }\n",
              "\n",
              "    .colab-df-convert:hover {\n",
              "      background-color: #E2EBFA;\n",
              "      box-shadow: 0px 1px 2px rgba(60, 64, 67, 0.3), 0px 1px 3px 1px rgba(60, 64, 67, 0.15);\n",
              "      fill: #174EA6;\n",
              "    }\n",
              "\n",
              "    .colab-df-buttons div {\n",
              "      margin-bottom: 4px;\n",
              "    }\n",
              "\n",
              "    [theme=dark] .colab-df-convert {\n",
              "      background-color: #3B4455;\n",
              "      fill: #D2E3FC;\n",
              "    }\n",
              "\n",
              "    [theme=dark] .colab-df-convert:hover {\n",
              "      background-color: #434B5C;\n",
              "      box-shadow: 0px 1px 3px 1px rgba(0, 0, 0, 0.15);\n",
              "      filter: drop-shadow(0px 1px 2px rgba(0, 0, 0, 0.3));\n",
              "      fill: #FFFFFF;\n",
              "    }\n",
              "  </style>\n",
              "\n",
              "    <script>\n",
              "      const buttonEl =\n",
              "        document.querySelector('#df-4e947dec-8610-4091-9bf6-1d890ed6daac button.colab-df-convert');\n",
              "      buttonEl.style.display =\n",
              "        google.colab.kernel.accessAllowed ? 'block' : 'none';\n",
              "\n",
              "      async function convertToInteractive(key) {\n",
              "        const element = document.querySelector('#df-4e947dec-8610-4091-9bf6-1d890ed6daac');\n",
              "        const dataTable =\n",
              "          await google.colab.kernel.invokeFunction('convertToInteractive',\n",
              "                                                    [key], {});\n",
              "        if (!dataTable) return;\n",
              "\n",
              "        const docLinkHtml = 'Like what you see? Visit the ' +\n",
              "          '<a target=\"_blank\" href=https://colab.research.google.com/notebooks/data_table.ipynb>data table notebook</a>'\n",
              "          + ' to learn more about interactive tables.';\n",
              "        element.innerHTML = '';\n",
              "        dataTable['output_type'] = 'display_data';\n",
              "        await google.colab.output.renderOutput(dataTable, element);\n",
              "        const docLink = document.createElement('div');\n",
              "        docLink.innerHTML = docLinkHtml;\n",
              "        element.appendChild(docLink);\n",
              "      }\n",
              "    </script>\n",
              "  </div>\n",
              "\n",
              "\n",
              "<div id=\"df-fe350913-fe87-43bb-843e-c33737c10f58\">\n",
              "  <button class=\"colab-df-quickchart\" onclick=\"quickchart('df-fe350913-fe87-43bb-843e-c33737c10f58')\"\n",
              "            title=\"Suggest charts\"\n",
              "            style=\"display:none;\">\n",
              "\n",
              "<svg xmlns=\"http://www.w3.org/2000/svg\" height=\"24px\"viewBox=\"0 0 24 24\"\n",
              "     width=\"24px\">\n",
              "    <g>\n",
              "        <path d=\"M19 3H5c-1.1 0-2 .9-2 2v14c0 1.1.9 2 2 2h14c1.1 0 2-.9 2-2V5c0-1.1-.9-2-2-2zM9 17H7v-7h2v7zm4 0h-2V7h2v10zm4 0h-2v-4h2v4z\"/>\n",
              "    </g>\n",
              "</svg>\n",
              "  </button>\n",
              "\n",
              "<style>\n",
              "  .colab-df-quickchart {\n",
              "      --bg-color: #E8F0FE;\n",
              "      --fill-color: #1967D2;\n",
              "      --hover-bg-color: #E2EBFA;\n",
              "      --hover-fill-color: #174EA6;\n",
              "      --disabled-fill-color: #AAA;\n",
              "      --disabled-bg-color: #DDD;\n",
              "  }\n",
              "\n",
              "  [theme=dark] .colab-df-quickchart {\n",
              "      --bg-color: #3B4455;\n",
              "      --fill-color: #D2E3FC;\n",
              "      --hover-bg-color: #434B5C;\n",
              "      --hover-fill-color: #FFFFFF;\n",
              "      --disabled-bg-color: #3B4455;\n",
              "      --disabled-fill-color: #666;\n",
              "  }\n",
              "\n",
              "  .colab-df-quickchart {\n",
              "    background-color: var(--bg-color);\n",
              "    border: none;\n",
              "    border-radius: 50%;\n",
              "    cursor: pointer;\n",
              "    display: none;\n",
              "    fill: var(--fill-color);\n",
              "    height: 32px;\n",
              "    padding: 0;\n",
              "    width: 32px;\n",
              "  }\n",
              "\n",
              "  .colab-df-quickchart:hover {\n",
              "    background-color: var(--hover-bg-color);\n",
              "    box-shadow: 0 1px 2px rgba(60, 64, 67, 0.3), 0 1px 3px 1px rgba(60, 64, 67, 0.15);\n",
              "    fill: var(--button-hover-fill-color);\n",
              "  }\n",
              "\n",
              "  .colab-df-quickchart-complete:disabled,\n",
              "  .colab-df-quickchart-complete:disabled:hover {\n",
              "    background-color: var(--disabled-bg-color);\n",
              "    fill: var(--disabled-fill-color);\n",
              "    box-shadow: none;\n",
              "  }\n",
              "\n",
              "  .colab-df-spinner {\n",
              "    border: 2px solid var(--fill-color);\n",
              "    border-color: transparent;\n",
              "    border-bottom-color: var(--fill-color);\n",
              "    animation:\n",
              "      spin 1s steps(1) infinite;\n",
              "  }\n",
              "\n",
              "  @keyframes spin {\n",
              "    0% {\n",
              "      border-color: transparent;\n",
              "      border-bottom-color: var(--fill-color);\n",
              "      border-left-color: var(--fill-color);\n",
              "    }\n",
              "    20% {\n",
              "      border-color: transparent;\n",
              "      border-left-color: var(--fill-color);\n",
              "      border-top-color: var(--fill-color);\n",
              "    }\n",
              "    30% {\n",
              "      border-color: transparent;\n",
              "      border-left-color: var(--fill-color);\n",
              "      border-top-color: var(--fill-color);\n",
              "      border-right-color: var(--fill-color);\n",
              "    }\n",
              "    40% {\n",
              "      border-color: transparent;\n",
              "      border-right-color: var(--fill-color);\n",
              "      border-top-color: var(--fill-color);\n",
              "    }\n",
              "    60% {\n",
              "      border-color: transparent;\n",
              "      border-right-color: var(--fill-color);\n",
              "    }\n",
              "    80% {\n",
              "      border-color: transparent;\n",
              "      border-right-color: var(--fill-color);\n",
              "      border-bottom-color: var(--fill-color);\n",
              "    }\n",
              "    90% {\n",
              "      border-color: transparent;\n",
              "      border-bottom-color: var(--fill-color);\n",
              "    }\n",
              "  }\n",
              "</style>\n",
              "\n",
              "  <script>\n",
              "    async function quickchart(key) {\n",
              "      const quickchartButtonEl =\n",
              "        document.querySelector('#' + key + ' button');\n",
              "      quickchartButtonEl.disabled = true;  // To prevent multiple clicks.\n",
              "      quickchartButtonEl.classList.add('colab-df-spinner');\n",
              "      try {\n",
              "        const charts = await google.colab.kernel.invokeFunction(\n",
              "            'suggestCharts', [key], {});\n",
              "      } catch (error) {\n",
              "        console.error('Error during call to suggestCharts:', error);\n",
              "      }\n",
              "      quickchartButtonEl.classList.remove('colab-df-spinner');\n",
              "      quickchartButtonEl.classList.add('colab-df-quickchart-complete');\n",
              "    }\n",
              "    (() => {\n",
              "      let quickchartButtonEl =\n",
              "        document.querySelector('#df-fe350913-fe87-43bb-843e-c33737c10f58 button');\n",
              "      quickchartButtonEl.style.display =\n",
              "        google.colab.kernel.accessAllowed ? 'block' : 'none';\n",
              "    })();\n",
              "  </script>\n",
              "</div>\n",
              "\n",
              "    </div>\n",
              "  </div>\n"
            ],
            "application/vnd.google.colaboratory.intrinsic+json": {
              "type": "dataframe"
            }
          },
          "metadata": {},
          "execution_count": 12
        }
      ],
      "source": [
        "df.describe()"
      ]
    },
    {
      "cell_type": "code",
      "execution_count": 13,
      "metadata": {
        "colab": {
          "base_uri": "https://localhost:8080/",
          "height": 1000
        },
        "id": "vHfWmIhUtprm",
        "outputId": "eda7ecb5-3888-497b-d46a-6b1e88e2e794"
      },
      "outputs": [
        {
          "output_type": "execute_result",
          "data": {
            "text/plain": [
              "Marital status                                    0\n",
              "Application mode                                  0\n",
              "Application order                                 0\n",
              "Course                                            0\n",
              "Daytime/evening attendance\\t                      0\n",
              "Previous qualification                            0\n",
              "Previous qualification (grade)                    0\n",
              "Nacionality                                       0\n",
              "Mother's qualification                            0\n",
              "Father's qualification                            0\n",
              "Mother's occupation                               0\n",
              "Father's occupation                               0\n",
              "Admission grade                                   0\n",
              "Displaced                                         0\n",
              "Educational special needs                         0\n",
              "Debtor                                            0\n",
              "Tuition fees up to date                           0\n",
              "Gender                                            0\n",
              "Scholarship holder                                0\n",
              "Age at enrollment                                 0\n",
              "International                                     0\n",
              "Curricular units 1st sem (credited)               0\n",
              "Curricular units 1st sem (enrolled)               0\n",
              "Curricular units 1st sem (evaluations)            0\n",
              "Curricular units 1st sem (approved)               0\n",
              "Curricular units 1st sem (grade)                  0\n",
              "Curricular units 1st sem (without evaluations)    0\n",
              "Curricular units 2nd sem (credited)               0\n",
              "Curricular units 2nd sem (enrolled)               0\n",
              "Curricular units 2nd sem (evaluations)            0\n",
              "Curricular units 2nd sem (approved)               0\n",
              "Curricular units 2nd sem (grade)                  0\n",
              "Curricular units 2nd sem (without evaluations)    0\n",
              "Unemployment rate                                 0\n",
              "Inflation rate                                    0\n",
              "GDP                                               0\n",
              "Target                                            0\n",
              "dtype: int64"
            ],
            "text/html": [
              "<div>\n",
              "<style scoped>\n",
              "    .dataframe tbody tr th:only-of-type {\n",
              "        vertical-align: middle;\n",
              "    }\n",
              "\n",
              "    .dataframe tbody tr th {\n",
              "        vertical-align: top;\n",
              "    }\n",
              "\n",
              "    .dataframe thead th {\n",
              "        text-align: right;\n",
              "    }\n",
              "</style>\n",
              "<table border=\"1\" class=\"dataframe\">\n",
              "  <thead>\n",
              "    <tr style=\"text-align: right;\">\n",
              "      <th></th>\n",
              "      <th>0</th>\n",
              "    </tr>\n",
              "  </thead>\n",
              "  <tbody>\n",
              "    <tr>\n",
              "      <th>Marital status</th>\n",
              "      <td>0</td>\n",
              "    </tr>\n",
              "    <tr>\n",
              "      <th>Application mode</th>\n",
              "      <td>0</td>\n",
              "    </tr>\n",
              "    <tr>\n",
              "      <th>Application order</th>\n",
              "      <td>0</td>\n",
              "    </tr>\n",
              "    <tr>\n",
              "      <th>Course</th>\n",
              "      <td>0</td>\n",
              "    </tr>\n",
              "    <tr>\n",
              "      <th>Daytime/evening attendance\\t</th>\n",
              "      <td>0</td>\n",
              "    </tr>\n",
              "    <tr>\n",
              "      <th>Previous qualification</th>\n",
              "      <td>0</td>\n",
              "    </tr>\n",
              "    <tr>\n",
              "      <th>Previous qualification (grade)</th>\n",
              "      <td>0</td>\n",
              "    </tr>\n",
              "    <tr>\n",
              "      <th>Nacionality</th>\n",
              "      <td>0</td>\n",
              "    </tr>\n",
              "    <tr>\n",
              "      <th>Mother's qualification</th>\n",
              "      <td>0</td>\n",
              "    </tr>\n",
              "    <tr>\n",
              "      <th>Father's qualification</th>\n",
              "      <td>0</td>\n",
              "    </tr>\n",
              "    <tr>\n",
              "      <th>Mother's occupation</th>\n",
              "      <td>0</td>\n",
              "    </tr>\n",
              "    <tr>\n",
              "      <th>Father's occupation</th>\n",
              "      <td>0</td>\n",
              "    </tr>\n",
              "    <tr>\n",
              "      <th>Admission grade</th>\n",
              "      <td>0</td>\n",
              "    </tr>\n",
              "    <tr>\n",
              "      <th>Displaced</th>\n",
              "      <td>0</td>\n",
              "    </tr>\n",
              "    <tr>\n",
              "      <th>Educational special needs</th>\n",
              "      <td>0</td>\n",
              "    </tr>\n",
              "    <tr>\n",
              "      <th>Debtor</th>\n",
              "      <td>0</td>\n",
              "    </tr>\n",
              "    <tr>\n",
              "      <th>Tuition fees up to date</th>\n",
              "      <td>0</td>\n",
              "    </tr>\n",
              "    <tr>\n",
              "      <th>Gender</th>\n",
              "      <td>0</td>\n",
              "    </tr>\n",
              "    <tr>\n",
              "      <th>Scholarship holder</th>\n",
              "      <td>0</td>\n",
              "    </tr>\n",
              "    <tr>\n",
              "      <th>Age at enrollment</th>\n",
              "      <td>0</td>\n",
              "    </tr>\n",
              "    <tr>\n",
              "      <th>International</th>\n",
              "      <td>0</td>\n",
              "    </tr>\n",
              "    <tr>\n",
              "      <th>Curricular units 1st sem (credited)</th>\n",
              "      <td>0</td>\n",
              "    </tr>\n",
              "    <tr>\n",
              "      <th>Curricular units 1st sem (enrolled)</th>\n",
              "      <td>0</td>\n",
              "    </tr>\n",
              "    <tr>\n",
              "      <th>Curricular units 1st sem (evaluations)</th>\n",
              "      <td>0</td>\n",
              "    </tr>\n",
              "    <tr>\n",
              "      <th>Curricular units 1st sem (approved)</th>\n",
              "      <td>0</td>\n",
              "    </tr>\n",
              "    <tr>\n",
              "      <th>Curricular units 1st sem (grade)</th>\n",
              "      <td>0</td>\n",
              "    </tr>\n",
              "    <tr>\n",
              "      <th>Curricular units 1st sem (without evaluations)</th>\n",
              "      <td>0</td>\n",
              "    </tr>\n",
              "    <tr>\n",
              "      <th>Curricular units 2nd sem (credited)</th>\n",
              "      <td>0</td>\n",
              "    </tr>\n",
              "    <tr>\n",
              "      <th>Curricular units 2nd sem (enrolled)</th>\n",
              "      <td>0</td>\n",
              "    </tr>\n",
              "    <tr>\n",
              "      <th>Curricular units 2nd sem (evaluations)</th>\n",
              "      <td>0</td>\n",
              "    </tr>\n",
              "    <tr>\n",
              "      <th>Curricular units 2nd sem (approved)</th>\n",
              "      <td>0</td>\n",
              "    </tr>\n",
              "    <tr>\n",
              "      <th>Curricular units 2nd sem (grade)</th>\n",
              "      <td>0</td>\n",
              "    </tr>\n",
              "    <tr>\n",
              "      <th>Curricular units 2nd sem (without evaluations)</th>\n",
              "      <td>0</td>\n",
              "    </tr>\n",
              "    <tr>\n",
              "      <th>Unemployment rate</th>\n",
              "      <td>0</td>\n",
              "    </tr>\n",
              "    <tr>\n",
              "      <th>Inflation rate</th>\n",
              "      <td>0</td>\n",
              "    </tr>\n",
              "    <tr>\n",
              "      <th>GDP</th>\n",
              "      <td>0</td>\n",
              "    </tr>\n",
              "    <tr>\n",
              "      <th>Target</th>\n",
              "      <td>0</td>\n",
              "    </tr>\n",
              "  </tbody>\n",
              "</table>\n",
              "</div><br><label><b>dtype:</b> int64</label>"
            ]
          },
          "metadata": {},
          "execution_count": 13
        }
      ],
      "source": [
        "df.isna().sum() #check for missing values"
      ]
    },
    {
      "cell_type": "code",
      "execution_count": 14,
      "metadata": {
        "colab": {
          "base_uri": "https://localhost:8080/"
        },
        "id": "kU_G7IQGt3Bl",
        "outputId": "9f712cb0-6e0f-4711-c459-2f2e0f383230"
      },
      "outputs": [
        {
          "output_type": "execute_result",
          "data": {
            "text/plain": [
              "0"
            ]
          },
          "metadata": {},
          "execution_count": 14
        }
      ],
      "source": [
        "#checking the duplcate rows\n",
        "df.duplicated().sum()"
      ]
    },
    {
      "cell_type": "code",
      "execution_count": 15,
      "metadata": {
        "collapsed": true,
        "id": "qXog6bysuimk"
      },
      "outputs": [],
      "source": [
        "#!pip install ydata_profiling"
      ]
    },
    {
      "cell_type": "code",
      "execution_count": 16,
      "metadata": {
        "collapsed": true,
        "id": "HiA_5Dk0vA0R"
      },
      "outputs": [],
      "source": [
        "#from ydata_profiling import ProfileReport\n",
        "#profile= ProfileReport(df, title=\"student Report\")\n",
        "#profile.to_file(output_file=\"student_report.html\")"
      ]
    },
    {
      "cell_type": "code",
      "execution_count": 17,
      "metadata": {
        "id": "CHCBsBSRyMef"
      },
      "outputs": [],
      "source": [
        "#displaying the report\n",
        "#profile.to_notebook_iframe()"
      ]
    },
    {
      "cell_type": "code",
      "execution_count": 18,
      "metadata": {
        "colab": {
          "base_uri": "https://localhost:8080/"
        },
        "id": "zlAXAeL3BHDl",
        "outputId": "ec925b1f-fbd0-42a6-a942-bb47ae0b7d5d"
      },
      "outputs": [
        {
          "output_type": "execute_result",
          "data": {
            "text/plain": [
              "array(['Dropout', 'Graduate', 'Enrolled'], dtype=object)"
            ]
          },
          "metadata": {},
          "execution_count": 18
        }
      ],
      "source": [
        "df['Target'].unique()"
      ]
    },
    {
      "cell_type": "code",
      "execution_count": 19,
      "metadata": {
        "colab": {
          "base_uri": "https://localhost:8080/"
        },
        "id": "iLbUfrDIcGIx",
        "outputId": "67b27e29-0e12-4ac1-8f1a-e348edefab63"
      },
      "outputs": [
        {
          "output_type": "execute_result",
          "data": {
            "text/plain": [
              "array([1, 2, 4, 3, 5, 6])"
            ]
          },
          "metadata": {},
          "execution_count": 19
        }
      ],
      "source": [
        "df['Marital status'].unique()"
      ]
    },
    {
      "cell_type": "code",
      "execution_count": 20,
      "metadata": {
        "colab": {
          "base_uri": "https://localhost:8080/"
        },
        "id": "bWXR1-c0fjBQ",
        "outputId": "c470227e-84bc-438f-bf09-21ce8f638061"
      },
      "outputs": [
        {
          "output_type": "execute_result",
          "data": {
            "text/plain": [
              "array([17, 15,  1, 39, 18, 53, 44, 51, 43,  7, 42, 16,  5,  2, 10, 57, 26,\n",
              "       27])"
            ]
          },
          "metadata": {},
          "execution_count": 20
        }
      ],
      "source": [
        "df['Application mode'].unique()"
      ]
    },
    {
      "cell_type": "code",
      "execution_count": 21,
      "metadata": {
        "colab": {
          "base_uri": "https://localhost:8080/"
        },
        "id": "_daz0nC4kYUw",
        "outputId": "b0c3b30c-6a69-4c4d-fb08-088bec539064"
      },
      "outputs": [
        {
          "output_type": "execute_result",
          "data": {
            "text/plain": [
              "array([5, 1, 2, 4, 3, 6, 9, 0])"
            ]
          },
          "metadata": {},
          "execution_count": 21
        }
      ],
      "source": [
        "df['Application order'].unique()"
      ]
    },
    {
      "cell_type": "code",
      "execution_count": 22,
      "metadata": {
        "colab": {
          "base_uri": "https://localhost:8080/"
        },
        "id": "J3I4tJt-lemA",
        "outputId": "60feaf25-f1aa-49f3-ef24-3bb570c7ee4d"
      },
      "outputs": [
        {
          "output_type": "execute_result",
          "data": {
            "text/plain": [
              "array([ 171, 9254, 9070, 9773, 8014, 9991, 9500, 9238, 9670, 9853, 9085,\n",
              "       9130, 9556, 9147, 9003,   33, 9119])"
            ]
          },
          "metadata": {},
          "execution_count": 22
        }
      ],
      "source": [
        "df['Course'].unique()"
      ]
    },
    {
      "cell_type": "code",
      "execution_count": 23,
      "metadata": {
        "colab": {
          "base_uri": "https://localhost:8080/"
        },
        "id": "-jMHi0rHnVNb",
        "outputId": "0e8698ee-f020-41fb-fafc-4536414c4756"
      },
      "outputs": [
        {
          "output_type": "execute_result",
          "data": {
            "text/plain": [
              "array([ 1, 19, 42, 39, 10,  3, 40,  2,  4, 12, 43, 15,  6,  9, 38,  5, 14])"
            ]
          },
          "metadata": {},
          "execution_count": 23
        }
      ],
      "source": [
        "df['Previous qualification'].unique()"
      ]
    },
    {
      "cell_type": "code",
      "execution_count": 24,
      "metadata": {
        "colab": {
          "base_uri": "https://localhost:8080/"
        },
        "id": "Oh6LgKCGpEGR",
        "outputId": "0e65fa79-91d3-4b5d-d529-7085ae346ff2"
      },
      "outputs": [
        {
          "output_type": "execute_result",
          "data": {
            "text/plain": [
              "array([  1,  62,   6,  41,  26, 103,  13,  25,  21, 101,  11,  22,  32,\n",
              "       100,  24, 109,   2, 108, 105,  14,  17])"
            ]
          },
          "metadata": {},
          "execution_count": 24
        }
      ],
      "source": [
        "df['Nacionality'].unique()"
      ]
    },
    {
      "cell_type": "code",
      "execution_count": 25,
      "metadata": {
        "colab": {
          "base_uri": "https://localhost:8080/"
        },
        "id": "cG5X1rL9rMis",
        "outputId": "c740bec5-1c1b-4c50-e3a8-11eb77ff9814"
      },
      "outputs": [
        {
          "output_type": "execute_result",
          "data": {
            "text/plain": [
              "array([122. , 160. , 100. , 133.1, 142. , 119. , 137. , 138. , 139. ,\n",
              "       136. , 133. , 110. , 149. , 127. , 135. , 140. , 125. , 126. ,\n",
              "       151. , 115. , 150. , 143. , 130. , 120. , 103. , 154. , 132. ,\n",
              "       167. , 129. , 141. , 116. , 148. , 118. , 106. , 121. , 114. ,\n",
              "       124. , 123. , 113. , 111. , 131. , 158. , 146. , 117. , 153. ,\n",
              "       178. ,  99. , 134. , 128. , 170. , 155. , 145. , 152. , 112. ,\n",
              "       107. , 156. , 188. ,  96. , 161. , 166. , 147. , 144. , 102. ,\n",
              "       101. , 180. , 172. , 105. , 108. , 165. , 190. , 162. , 164. ,\n",
              "       163. , 159. , 117.4, 175. , 133.8, 176. , 168. , 139.3,  97. ,\n",
              "       157. , 140.8, 184.4, 148.9, 109. , 174. , 182. , 138.6,  95. ,\n",
              "       154.4, 163.3, 145.7, 123.9, 124.4, 169. , 177. , 138.7, 119.1,\n",
              "       118.9, 126.6])"
            ]
          },
          "metadata": {},
          "execution_count": 25
        }
      ],
      "source": [
        "df['Previous qualification (grade)'].unique()"
      ]
    },
    {
      "cell_type": "code",
      "execution_count": 26,
      "metadata": {
        "colab": {
          "base_uri": "https://localhost:8080/"
        },
        "id": "FswrjFwJtyGd",
        "outputId": "c37be5a2-3eac-4401-d485-05404bf2f69a"
      },
      "outputs": [
        {
          "output_type": "execute_result",
          "data": {
            "text/plain": [
              "array([1, 0])"
            ]
          },
          "metadata": {},
          "execution_count": 26
        }
      ],
      "source": [
        "df['Daytime/evening attendance\\t'].unique()"
      ]
    },
    {
      "cell_type": "code",
      "execution_count": 27,
      "metadata": {
        "colab": {
          "base_uri": "https://localhost:8080/"
        },
        "id": "XJSPDK_7vKMa",
        "outputId": "aa692902-ee1b-4bda-a592-767af650e40b"
      },
      "outputs": [
        {
          "output_type": "execute_result",
          "data": {
            "text/plain": [
              "array([19,  1, 37, 38,  3,  4, 42,  2, 34, 12, 40,  9,  5, 39, 11, 41, 30,\n",
              "       14, 35, 36,  6, 10, 29, 43, 18, 22, 27, 26, 44])"
            ]
          },
          "metadata": {},
          "execution_count": 27
        }
      ],
      "source": [
        "df[\"Mother's qualification\"].unique()"
      ]
    },
    {
      "cell_type": "code",
      "execution_count": 28,
      "metadata": {
        "colab": {
          "base_uri": "https://localhost:8080/"
        },
        "id": "3Tpy9_1hx8f1",
        "outputId": "246ede2a-2f35-4d22-d1f2-01f8b1e54f30"
      },
      "outputs": [
        {
          "output_type": "execute_result",
          "data": {
            "text/plain": [
              "array([12,  3, 37, 38,  1, 19,  5,  4, 34,  2, 39, 11,  9, 36, 26, 40, 14,\n",
              "       20, 35, 41, 22, 13, 29, 43, 18, 42, 10,  6, 30, 25, 44, 33, 27, 31])"
            ]
          },
          "metadata": {},
          "execution_count": 28
        }
      ],
      "source": [
        "df[\"Father's qualification\"].unique()"
      ]
    },
    {
      "cell_type": "code",
      "execution_count": 29,
      "metadata": {
        "colab": {
          "base_uri": "https://localhost:8080/"
        },
        "id": "eRamFz3x6uqR",
        "outputId": "cb68d219-92cf-4f3d-8c24-f0120307a352"
      },
      "outputs": [
        {
          "output_type": "execute_result",
          "data": {
            "text/plain": [
              "array([  5,   3,   9,   7,   4,   1, 125,   0,   6,   2,  90,   8, 141,\n",
              "       175,  99, 191, 151, 194, 192, 132, 152, 134,  10, 143, 123, 173,\n",
              "       193, 122, 144, 131, 171, 153])"
            ]
          },
          "metadata": {},
          "execution_count": 29
        }
      ],
      "source": [
        "df[\"Mother's occupation\"].unique()"
      ]
    },
    {
      "cell_type": "code",
      "execution_count": 30,
      "metadata": {
        "colab": {
          "base_uri": "https://localhost:8080/"
        },
        "id": "Wl0bRzK98P3Q",
        "outputId": "be50bea4-4106-437e-ff10-5d11aa7a715c"
      },
      "outputs": [
        {
          "output_type": "execute_result",
          "data": {
            "text/plain": [
              "array([  9,   3,   7,  10,   5,   8,   4,   1,   2, 124,   6,   0,  90,\n",
              "       175, 121,  99, 144, 195, 192, 161, 193, 151, 182, 132, 131, 194,\n",
              "       163, 135, 143, 171, 103, 172, 152, 183, 122, 102, 181, 134, 123,\n",
              "       112, 153, 174, 141, 114, 101, 154])"
            ]
          },
          "metadata": {},
          "execution_count": 30
        }
      ],
      "source": [
        "df[\"Father's occupation\"].unique()"
      ]
    },
    {
      "cell_type": "code",
      "execution_count": 31,
      "metadata": {
        "colab": {
          "base_uri": "https://localhost:8080/"
        },
        "id": "PvKPRhFuDiZs",
        "outputId": "2e50c413-7a9e-4f0e-adc0-83346b568a71"
      },
      "outputs": [
        {
          "output_type": "execute_result",
          "data": {
            "text/plain": [
              "array([127.3, 142.5, 124.8, 119.6, 141.5, 114.8, 128.4, 113.1, 129.3,\n",
              "       123. , 130.6, 119.3, 130.2, 111.8, 137.1, 120.7, 137.4, 136.3,\n",
              "       124.6, 120.3, 121.8, 125.5, 114.9, 123.9, 157. , 116.4, 131. ,\n",
              "       122.1, 118.8, 150. , 130. , 138.8, 134.5, 131.4, 102.5, 128.8,\n",
              "       122.9, 113.9, 120. , 121.1, 120.4, 100.6, 121.4, 109.7, 134.1,\n",
              "       127.6, 132.4, 133.4, 126.1, 113.5, 121.3, 159.3, 129.1, 155.3,\n",
              "       139.8, 115.2, 131.9, 126. , 120.9, 128.2, 120.1, 100. , 134. ,\n",
              "       130.8, 135.8, 111.7, 132.9, 115.5, 106. , 117. , 110.2, 155.7,\n",
              "       180.4, 110. , 161. , 117.6, 128.7, 112.2, 100.8, 105. , 114. ,\n",
              "       137. , 124.9, 134.3, 111.5, 160. , 117.4, 122.2, 118.2, 106.7,\n",
              "       108.2, 107. , 136.1, 115.3, 140.4, 113.4, 118.6, 122.3, 127.9,\n",
              "       117.1, 145.3, 122.6, 128. , 123.7, 131.7, 133.2, 109.3, 113. ,\n",
              "       157.9, 112.1, 174.7, 110.1,  99.7, 121. , 119.1, 124.7, 117.2,\n",
              "       131.5, 121.7, 123.4, 132.8, 108.7, 138.1, 126.5, 127.4, 123.6,\n",
              "       122. , 125.8, 123.3, 124.4, 170. , 121.5, 108. , 132.3, 148. ,\n",
              "       113.3, 133. , 140. , 128.3, 104. , 135. , 126.6, 129. , 162.3,\n",
              "       163.4, 122.8, 118. , 129.8, 152. , 131.8, 105.9, 132.1, 129.5,\n",
              "       126.7, 116.5, 149.8, 115.1, 124.5, 136. , 126.3, 126.9, 145. ,\n",
              "       115.8, 147. , 122.5, 117.5, 127.5, 133.3,  97. , 112. , 130.5,\n",
              "       141.7, 119.7, 119.4, 155. , 122.7, 117.9, 116.8, 125.4, 127.2,\n",
              "       103.4, 123.2, 124.1,  99.5, 110.8, 118.9, 121.6, 149.2, 126.2,\n",
              "       127.8, 113.7, 117.8, 136.7, 144.7, 142.3, 143. , 100.1, 101. ,\n",
              "       116. , 135.6, 118.7, 125.7, 107.1, 127. , 154.4, 116.1, 118.5,\n",
              "       146.7, 124.3, 137.8, 147.8, 155.6, 130.9, 125. , 136.8, 151. ,\n",
              "       103.5, 134.4, 132.5, 114.7, 166.9, 125.9, 178.3, 135.1, 136.2,\n",
              "       116.3, 124.2, 127.1, 172. , 128.5, 131.2, 112.9, 140.9, 148.4,\n",
              "       129.7, 119.9, 141. , 116.6, 140.2, 146.2, 156.1, 115. , 158.7,\n",
              "       111.9, 114.2,  96. , 128.9, 131.3, 139. , 120.8, 150.5, 129.4,\n",
              "       114.4, 114.5, 130.3, 114.6, 129.9, 114.3, 152.4, 155.1, 153.2,\n",
              "       125.2, 141.3, 104.5, 113.2, 123.8, 133.8, 132.7, 106.6, 124. ,\n",
              "       116.9, 130.4, 132. , 143.7, 152.8, 133.5, 101.8, 121.9, 148.8,\n",
              "       126.8, 115.9, 132.2, 183.5, 100.9, 110.3, 137.2, 118.4, 144.9,\n",
              "       146.8, 138. , 119.8,  95. , 144.2, 135.3, 143.9, 140.7, 118.1,\n",
              "       106.5, 137.5, 102. , 133.9, 134.7, 125.3, 106.1, 139.9, 109. ,\n",
              "       109.5, 131.6, 136.4, 132.6, 158. , 144.4, 143.3, 112.3, 180. ,\n",
              "       136.5, 137.6, 138.4, 123.5, 142.8, 155.5, 163.5, 161.9, 166.6,\n",
              "       137.7, 152.1, 162.9, 146.5, 190. , 144.3, 148.3, 107.5, 138.5,\n",
              "       113.6, 143.2, 118.3, 115.6, 112.4, 154. , 111.3, 162.5, 119. ,\n",
              "       131.1, 162. , 110.6, 156.9, 159.1, 149. , 129.6, 133.6, 146.9,\n",
              "       109.1, 129.2, 154.1, 147.2, 151.6, 111.6, 117.3, 115.7, 134.8,\n",
              "       112.6, 128.1, 143.4,  96.7, 143.1, 143.5, 151.1, 112.5, 133.1,\n",
              "       151.3, 113.8, 107.7, 128.6, 134.6, 135.7, 135.5, 127.7, 140.1,\n",
              "       105.5, 120.2, 145.6, 142. , 107.8, 109.4, 143.6, 119.5, 175.6,\n",
              "       136.9, 101.7, 112.7, 105.8, 126.4, 164.9, 157.5, 146.6, 142.2,\n",
              "       135.9, 106.8, 139.7, 146. , 108.8, 134.9, 136.6, 159. , 105.4,\n",
              "       139.1, 184. , 108.3, 147.6, 125.1, 150.3, 120.5, 120.6, 168.5,\n",
              "       108.5, 138.2, 144. , 152.3, 169.7, 117.7, 159.7, 159.9, 153.5,\n",
              "       123.1, 171.2, 153.9, 111. ,  98.9, 139.4, 154.8,  95.5, 111.1,\n",
              "       147.7, 138.3, 141.8, 125.6, 144.1, 122.4, 116.2, 139.2, 116.7,\n",
              "       155.8,  97.2, 156. , 163.7, 156.3, 153. , 141.4, 168. , 101.3,\n",
              "        98.7, 100.7, 106.2, 103. ,  98.1, 130.7, 164.3,  99. , 161.2,\n",
              "       149.9, 110.5, 137.9, 165.8, 152.5, 140.5, 104.8, 140.8, 121.2,\n",
              "       133.7, 151.9, 145.4, 115.4,  97.4, 105.2, 134.2, 146.3, 161.5,\n",
              "       148.7,  98. , 143.8, 138.7, 138.6, 155.2, 106.3,  97.5, 139.6,\n",
              "       150.6, 184.4, 150.2, 146.1, 102.6, 153.8, 137.3, 149.3, 119.2,\n",
              "       147.3, 147.5, 110.4, 148.9, 150.9,  99.3, 104.1, 176.7, 156.8,\n",
              "       144.6, 153.6, 158.3, 154.9, 100.5, 107.2, 141.2, 150.4, 138.9,\n",
              "        95.1, 157.7, 104.6, 178. , 161.1, 107.6, 145.2, 160.6, 145.8,\n",
              "        95.8, 105.6, 110.7, 106.4, 150.1, 156.5,  98.6, 146.4, 165.7,\n",
              "       156.4, 148.5, 104.7, 151.5, 139.3, 158.1, 163.3, 107.3, 145.7,\n",
              "       153.1, 161.8, 150.8, 163.6, 145.9, 105.1, 144.8, 151.2, 167.3,\n",
              "       168.2, 166. , 101.5, 112.8, 104.2, 102.2, 105.3, 149.5, 130.1,\n",
              "       108.6, 135.4, 149.7, 169.2, 144.5, 153.7, 157.8, 152.9,  98.5,\n",
              "       160.1, 160.5, 151.4, 151.7, 176. , 142.4, 141.6, 100.2, 152.7,\n",
              "       173.3, 157.4, 102.4, 162.2, 159.5, 135.2, 154.5, 105.7, 108.4,\n",
              "       109.8, 165.2, 103.6,  99.6, 167.1, 139.5, 154.3, 142.7, 140.3,\n",
              "       103.7, 162.4,  96.1, 109.6, 149.4, 101.6, 148.6, 107.4, 168.6,\n",
              "       155.9, 179.6, 141.1, 163. , 154.7, 109.9, 154.6, 148.2, 142.6,\n",
              "       147.9, 160.4, 111.4, 163.1, 102.8, 162.1, 103.8, 156.2])"
            ]
          },
          "metadata": {},
          "execution_count": 31
        }
      ],
      "source": [
        "df['Admission grade'].unique()"
      ]
    },
    {
      "cell_type": "code",
      "execution_count": 32,
      "metadata": {
        "colab": {
          "base_uri": "https://localhost:8080/"
        },
        "id": "C4ixReWsFURU",
        "outputId": "f2e0b1dc-90a9-40f4-f79d-aa28e4c977a0"
      },
      "outputs": [
        {
          "output_type": "execute_result",
          "data": {
            "text/plain": [
              "array([1, 0])"
            ]
          },
          "metadata": {},
          "execution_count": 32
        }
      ],
      "source": [
        "df['Displaced'].unique()"
      ]
    },
    {
      "cell_type": "code",
      "execution_count": 33,
      "metadata": {
        "colab": {
          "base_uri": "https://localhost:8080/"
        },
        "id": "WSYgWjM5HdyG",
        "outputId": "2a281d04-6b64-4707-c670-924ab55706a6"
      },
      "outputs": [
        {
          "output_type": "execute_result",
          "data": {
            "text/plain": [
              "array([0, 1])"
            ]
          },
          "metadata": {},
          "execution_count": 33
        }
      ],
      "source": [
        "df['Educational special needs'].unique()"
      ]
    },
    {
      "cell_type": "code",
      "execution_count": 34,
      "metadata": {
        "colab": {
          "base_uri": "https://localhost:8080/"
        },
        "id": "SjyVzohmIbCP",
        "outputId": "a78beb7b-790c-48ba-fa98-44ed99e1183a"
      },
      "outputs": [
        {
          "output_type": "execute_result",
          "data": {
            "text/plain": [
              "array([0, 1])"
            ]
          },
          "metadata": {},
          "execution_count": 34
        }
      ],
      "source": [
        "df['Debtor'].unique()"
      ]
    },
    {
      "cell_type": "code",
      "execution_count": 35,
      "metadata": {
        "colab": {
          "base_uri": "https://localhost:8080/"
        },
        "id": "nTocuyN1Ig01",
        "outputId": "6467c129-0eb7-40d0-d316-c97125729c7d"
      },
      "outputs": [
        {
          "output_type": "execute_result",
          "data": {
            "text/plain": [
              "array([1, 0])"
            ]
          },
          "metadata": {},
          "execution_count": 35
        }
      ],
      "source": [
        "df['Tuition fees up to date'].unique()"
      ]
    },
    {
      "cell_type": "code",
      "execution_count": 36,
      "metadata": {
        "colab": {
          "base_uri": "https://localhost:8080/"
        },
        "id": "UidOeIjVKDpI",
        "outputId": "f9418f31-0554-4df4-daa5-ec0d745ec25d"
      },
      "outputs": [
        {
          "output_type": "execute_result",
          "data": {
            "text/plain": [
              "array([1, 0])"
            ]
          },
          "metadata": {},
          "execution_count": 36
        }
      ],
      "source": [
        "df['Gender'].unique()"
      ]
    },
    {
      "cell_type": "code",
      "execution_count": 37,
      "metadata": {
        "colab": {
          "base_uri": "https://localhost:8080/"
        },
        "id": "sUUjNkWMMWp9",
        "outputId": "81055908-0c2d-4099-bede-ecddb23d8b0e"
      },
      "outputs": [
        {
          "output_type": "execute_result",
          "data": {
            "text/plain": [
              "array([0, 1])"
            ]
          },
          "metadata": {},
          "execution_count": 37
        }
      ],
      "source": [
        "df['Scholarship holder'].unique()"
      ]
    },
    {
      "cell_type": "code",
      "execution_count": 38,
      "metadata": {
        "colab": {
          "base_uri": "https://localhost:8080/"
        },
        "id": "1WsdkolGN7UN",
        "outputId": "9fb1aed1-776e-4110-b3a2-abc422f4a487"
      },
      "outputs": [
        {
          "output_type": "execute_result",
          "data": {
            "text/plain": [
              "array([20, 19, 45, 50, 18, 22, 21, 34, 37, 43, 55, 39, 29, 24, 27, 23, 26,\n",
              "       33, 35, 25, 44, 36, 47, 28, 38, 30, 31, 32, 40, 42, 48, 49, 46, 41,\n",
              "       70, 60, 53, 51, 52, 54, 61, 58, 59, 17, 57, 62])"
            ]
          },
          "metadata": {},
          "execution_count": 38
        }
      ],
      "source": [
        "df['Age at enrollment'].unique()"
      ]
    },
    {
      "cell_type": "code",
      "execution_count": 39,
      "metadata": {
        "colab": {
          "base_uri": "https://localhost:8080/"
        },
        "id": "i0fDhFfEPFzk",
        "outputId": "739e9e83-89e3-400a-cbc3-d4559d8b05e6"
      },
      "outputs": [
        {
          "output_type": "execute_result",
          "data": {
            "text/plain": [
              "array([0, 1])"
            ]
          },
          "metadata": {},
          "execution_count": 39
        }
      ],
      "source": [
        "df['International'].unique()"
      ]
    },
    {
      "cell_type": "code",
      "execution_count": 40,
      "metadata": {
        "colab": {
          "base_uri": "https://localhost:8080/"
        },
        "id": "IvoV0tthQLfa",
        "outputId": "18dee033-b70f-4ea3-a177-40f34df00bbb"
      },
      "outputs": [
        {
          "output_type": "execute_result",
          "data": {
            "text/plain": [
              "array([ 0,  2,  3,  6,  7, 13,  4,  1,  5, 19, 11,  8, 10,  9, 15, 12, 14,\n",
              "       18, 17, 16, 20])"
            ]
          },
          "metadata": {},
          "execution_count": 40
        }
      ],
      "source": [
        "df['Curricular units 1st sem (credited)'].unique()"
      ]
    },
    {
      "cell_type": "code",
      "execution_count": 41,
      "metadata": {
        "colab": {
          "base_uri": "https://localhost:8080/"
        },
        "id": "hGXb9tuOTeQt",
        "outputId": "2e2c2a97-efda-4e05-9906-7edcb821c28b"
      },
      "outputs": [
        {
          "output_type": "execute_result",
          "data": {
            "text/plain": [
              "array([ 0,  6,  5,  7,  8,  1, 12, 10, 18,  9, 21,  3, 17, 16, 11, 14, 13,\n",
              "        2,  4, 15, 19, 23, 26])"
            ]
          },
          "metadata": {},
          "execution_count": 41
        }
      ],
      "source": [
        "df['Curricular units 1st sem (enrolled)'].unique()"
      ]
    },
    {
      "cell_type": "code",
      "execution_count": 42,
      "metadata": {
        "colab": {
          "base_uri": "https://localhost:8080/"
        },
        "id": "K_FJS0tLTh10",
        "outputId": "16382a73-b64c-4566-8285-8f0ffea15a02"
      },
      "outputs": [
        {
          "output_type": "execute_result",
          "data": {
            "text/plain": [
              "array([ 0,  6,  8,  9, 10,  5,  7, 14, 12, 15, 13, 11,  1, 17, 18, 19, 21,\n",
              "        4, 16,  3, 24,  2, 22, 45, 20, 26, 29, 36, 32, 23, 27, 31, 28, 25,\n",
              "       33])"
            ]
          },
          "metadata": {},
          "execution_count": 42
        }
      ],
      "source": [
        "df['Curricular units 1st sem (evaluations)'].unique()"
      ]
    },
    {
      "cell_type": "code",
      "execution_count": 43,
      "metadata": {
        "colab": {
          "base_uri": "https://localhost:8080/"
        },
        "id": "_2w8BKs_TnED",
        "outputId": "78df8d07-2428-4ccd-8b3b-298247ef0f5b"
      },
      "outputs": [
        {
          "output_type": "execute_result",
          "data": {
            "text/plain": [
              "array([ 0,  6,  5,  7,  4,  1,  3,  2,  8, 18, 10,  9, 21, 11, 13, 12, 16,\n",
              "       14, 17, 19, 15, 20, 26])"
            ]
          },
          "metadata": {},
          "execution_count": 43
        }
      ],
      "source": [
        "df['Curricular units 1st sem (approved)'].unique()"
      ]
    },
    {
      "cell_type": "code",
      "execution_count": 44,
      "metadata": {
        "colab": {
          "base_uri": "https://localhost:8080/"
        },
        "id": "4sY8VZ8kTvqJ",
        "outputId": "82bcae82-531c-4c2b-c950-eee96dbef0c2"
      },
      "outputs": [
        {
          "output_type": "execute_result",
          "data": {
            "text/plain": [
              "array([ 0.        , 14.        , 13.42857143, 12.33333333, 11.85714286,\n",
              "       13.3       , 13.875     , 11.4       , 13.21428571, 10.57142857,\n",
              "       13.25      , 13.2       , 12.        , 13.30625   , 12.5       ,\n",
              "       11.66666667, 11.4375    , 12.85714286, 13.375     , 13.29666667,\n",
              "       11.6       , 11.375     , 12.66666667, 12.93333333, 12.83333333,\n",
              "       11.33333333, 12.4       , 10.        , 11.        , 12.75      ,\n",
              "       14.8       , 13.928     , 13.        , 11.5       , 13.51666667,\n",
              "       13.66666667, 11.83333333, 14.71428571, 10.6       , 13.04444444,\n",
              "       14.935     , 13.13333333, 11.9       , 12.57142857, 11.2       ,\n",
              "       11.975     , 10.33333333, 10.5       , 14.84285714, 12.2       ,\n",
              "       12.16666667, 13.08      , 10.66666667, 11.875     , 13.75      ,\n",
              "       14.2       , 11.96      , 12.875     , 14.63157895, 13.26666667,\n",
              "       13.85714286, 13.4       , 12.51666667, 11.61666667, 13.14285714,\n",
              "       12.6       , 10.8       , 12.8       , 14.16666667, 12.1       ,\n",
              "       13.46714286, 13.2375    , 14.83333333, 13.188     , 17.125     ,\n",
              "       13.605     , 13.86333333, 13.33333333, 12.25      , 13.16666667,\n",
              "       12.85555556, 14.91875   , 14.25714286, 11.25      , 12.45714286,\n",
              "       11.68333333, 11.75      , 11.95      , 14.35      , 12.61904762,\n",
              "       13.05      , 12.24285714, 12.93375   , 11.81666667, 11.16666667,\n",
              "       12.32428571, 11.14285714, 12.91428571, 13.83333333, 13.71428571,\n",
              "       12.64285714, 12.91666667, 15.625     , 11.71428571, 12.125     ,\n",
              "       13.85      , 13.74166667, 15.33333333, 11.57142857, 13.5       ,\n",
              "       12.47142857, 12.90909091, 12.9       , 13.22      , 13.15142857,\n",
              "       15.        , 14.4       , 16.        , 13.57142857, 14.82857143,\n",
              "       13.67142857, 12.67      , 14.5       , 13.68571429, 11.55555556,\n",
              "       13.79714286, 14.00375   , 13.8       , 10.83333333, 13.385     ,\n",
              "       15.66666667, 14.33333333, 11.42857143, 14.72571429, 12.86      ,\n",
              "       15.11666667, 15.2       , 16.2       , 14.54285714, 13.69428571,\n",
              "       11.28571429, 11.75714286, 13.05857143, 14.3       , 11.8       ,\n",
              "       13.39125   , 10.69230769, 12.58571429, 13.98      , 16.15384615,\n",
              "       14.03333333, 13.41428571, 13.54545455, 15.13571429, 12.28571429,\n",
              "       12.74      , 12.55555556, 11.27272727, 14.66666667, 14.85714286,\n",
              "       11.72727273, 14.73142857, 13.61538462, 15.8       , 14.65428571,\n",
              "       12.40142857, 11.5875    , 15.23076923, 12.90142857, 14.14285714,\n",
              "       13.25375   , 13.78571429, 13.91666667, 12.08285714, 13.81428571,\n",
              "       11.3       , 12.3       , 12.69428571, 14.4125    , 12.92875   ,\n",
              "       14.40285714, 13.38142857, 14.13125   , 13.6       , 13.84615385,\n",
              "       16.4       , 13.81818182, 10.2       , 11.44444444, 13.31      ,\n",
              "       13.48714286, 13.96666667, 11.98      , 11.61428571, 14.31428571,\n",
              "       12.76666667, 14.70625   , 11.81428571, 12.77125   , 11.72142857,\n",
              "       14.75      , 10.75      , 12.61      , 13.625     , 11.69      ,\n",
              "       14.52857143, 15.95714286, 12.625     , 13.49666667, 11.77777778,\n",
              "       12.42857143, 12.5075    , 12.09090909, 14.6       , 13.82857143,\n",
              "       12.5375    , 12.1625    , 12.45      , 11.45454545, 11.88888889,\n",
              "       16.88571429, 13.05555556, 12.35571429, 12.35714286, 12.84714286,\n",
              "       12.34      , 13.73125   , 10.88888889, 13.025     , 12.04285714,\n",
              "       12.8375    , 12.62857143, 14.26875   , 12.22857143, 15.375     ,\n",
              "       12.61428571, 10.92307692, 15.83333333, 13.3625    , 15.4       ,\n",
              "       12.81818182, 13.39473684, 14.25      , 13.44444444, 11.8375    ,\n",
              "       12.68421053, 17.33333333, 13.11111111, 14.11111111, 14.72727273,\n",
              "       13.10571429, 11.84615385, 14.42857143, 12.14285714, 13.47142857,\n",
              "       13.105     , 15.5       , 12.22222222, 14.125     , 15.16666667,\n",
              "       15.14285714, 13.41142857, 14.668     , 13.345     , 14.53714286,\n",
              "       13.08714286, 14.14571429, 14.45      , 15.71428571, 13.46285714,\n",
              "       12.41428571, 14.01666667, 10.4       , 13.91428571, 13.76111111,\n",
              "       13.84285714, 14.68285714, 18.        , 11.46153846, 14.24444444,\n",
              "       12.6       , 14.01428571, 12.8875    , 12.95      , 13.09428571,\n",
              "       13.7       , 11.70571429, 15.28571429, 13.46666667, 14.875     ,\n",
              "       14.72857143, 14.46      , 16.5       , 15.22857143, 12.77777778,\n",
              "       13.128     , 11.605     , 13.18181818, 12.98125   , 11.68      ,\n",
              "       13.175     , 13.31428571, 12.79142857, 11.625     , 11.99444444,\n",
              "       14.1       , 12.39666667, 15.01428571, 14.05      , 14.85      ,\n",
              "       14.7875    , 12.49571429, 14.56666667, 12.68571429, 14.445     ,\n",
              "       13.41666667, 13.1       , 13.53333333, 12.71428571, 13.30857143,\n",
              "       14.07125   , 14.90142857, 12.65      , 12.13571429, 12.62      ,\n",
              "       13.76666667, 13.11625   , 12.7       , 15.75      , 14.35555556,\n",
              "       17.00555556, 12.11428571, 13.05875   , 13.28571429, 14.07142857,\n",
              "       13.29714286, 13.92307692, 13.37      , 13.48571429, 12.94      ,\n",
              "       13.25857143, 14.65285714, 13.72727273, 15.07      , 12.60625   ,\n",
              "       13.59833333, 12.04142857, 13.76923077, 15.44444444, 15.57142857,\n",
              "       13.63      , 16.9       , 12.76428571, 14.60428571, 13.57625   ,\n",
              "       13.76375   , 10.71428571, 14.35714286, 13.92571429, 13.44285714,\n",
              "       13.125     , 11.67777778, 16.14285714, 11.78571429, 13.42375   ,\n",
              "       12.46428571, 12.375     , 13.02428571, 14.28571429, 14.38461538,\n",
              "       11.98857143, 11.54545455, 16.46153846, 14.37      , 14.69625   ,\n",
              "       12.85555556, 13.04      , 15.65714286, 13.33142857, 13.45454545,\n",
              "       15.02857143, 11.42105263, 13.35      , 13.88125   , 13.15      ,\n",
              "       12.34285714, 13.45714286, 12.90857143, 12.81666667, 11.61111111,\n",
              "       13.97666667, 12.45454545, 10.98333333, 13.38461538, 16.11111111,\n",
              "       13.58571429, 13.34      , 13.38888889, 13.58333333, 12.82857143,\n",
              "       11.32857143, 13.03333333, 12.6875    , 10.46666667, 12.83571429,\n",
              "       13.24875   , 12.54545455, 11.98333333, 10.25      , 12.51428571,\n",
              "       13.30769231, 13.34285714, 14.27272727, 12.1375    , 13.52857143,\n",
              "       13.6375    , 14.36      , 14.51428571, 14.7       , 16.57142857,\n",
              "       15.145     , 13.76125   , 15.30769231, 14.75714286, 11.91666667,\n",
              "       15.63375   , 13.38125   , 12.16      , 13.3425    , 14.175     ,\n",
              "       14.15384615, 12.58823529, 13.05375   , 12.03571429, 11.53846154,\n",
              "       13.11714286, 12.63636364, 15.125     , 13.72571429, 15.57      ,\n",
              "       14.11428571, 13.07571429, 13.51285714, 12.288     , 12.76571429,\n",
              "       14.88888889, 11.35714286, 13.88428571, 13.8875    , 13.4275    ,\n",
              "       13.075     , 13.49285714, 14.58333333, 15.66      , 13.55714286,\n",
              "       12.18333333, 13.435     , 13.11666667, 13.87714286, 12.94428571,\n",
              "       14.26666667, 12.48375   , 13.45      , 12.48571429, 14.86857143,\n",
              "       13.03      , 14.57142857, 13.3675    , 12.80833333, 13.91857143,\n",
              "       13.68333333, 14.69285714, 14.035     , 11.7725    , 12.46      ,\n",
              "       14.80571429, 12.725     , 13.135     , 12.85      , 14.14125   ,\n",
              "       14.6625    , 12.99333333, 10.21428571, 13.54285714, 11.82857143,\n",
              "       12.96666667, 14.12571429, 12.78333333, 13.44      , 12.21428571,\n",
              "       12.84615385, 13.37142857, 13.38571429, 13.32857143, 14.3775    ,\n",
              "       14.15      , 14.07222222, 12.63333333, 14.23333333, 15.7       ,\n",
              "       16.33333333, 12.5625    , 13.78125   , 13.26      , 15.15555556,\n",
              "       12.82875   , 10.875     , 12.75833333, 13.50714286, 13.61428571,\n",
              "       11.97142857, 12.38571429, 14.28333333, 13.27272727, 15.115     ,\n",
              "       14.56571429, 13.79666667, 14.96285714, 13.64285714, 12.15384615,\n",
              "       13.40375   , 16.16666667, 11.29444444, 13.43333333, 12.74285714,\n",
              "       14.93571429, 12.52857143, 12.36363636, 15.09090909, 13.05882353,\n",
              "       13.39166667, 14.08571429, 10.16666667, 12.12142857, 14.22222222,\n",
              "       12.49285714, 15.88571429, 14.77777778, 12.72727273, 18.875     ,\n",
              "       15.08333333, 12.44428571, 12.51333333, 11.15555556, 11.575     ,\n",
              "       13.19857143, 13.87571429, 13.15384615, 14.44142857, 13.2325    ,\n",
              "       13.07375   , 13.46428571, 14.4025    , 15.46875   , 14.98333333,\n",
              "       15.88888889, 13.98333333, 14.84285714, 12.55375   , 12.66571429,\n",
              "       12.57894737, 12.002     , 13.86714286, 12.675     , 11.63571429,\n",
              "       12.52608696, 16.42857143, 13.336     , 14.11571429, 12.415     ,\n",
              "       14.31285714, 15.42857143, 10.85714286, 11.73333333, 13.04666667,\n",
              "       13.11      , 14.41428571, 13.045     , 12.858     , 14.2525    ,\n",
              "       14.06      , 15.07571429, 13.77857143, 13.07285714, 16.71428571,\n",
              "       11.65833333, 14.625     , 12.56      , 13.19      , 12.77142857,\n",
              "       11.71666667, 17.        , 12.21052632, 12.46153846, 11.90909091,\n",
              "       13.46      , 10.36842105, 12.69230769, 14.30769231, 14.45454545,\n",
              "       12.44444444, 13.6125    , 12.41428571, 14.06666667, 13.55555556,\n",
              "       13.27625   , 14.375     , 12.97166667, 10.92857143, 12.75714286,\n",
              "       13.67      , 14.13714286, 13.55      , 14.63636364, 12.78571429,\n",
              "       13.80142857, 11.82      , 13.42222222, 14.57285714, 12.98285714,\n",
              "       13.755     , 14.71111111, 14.61538462, 13.67714286, 13.95833333,\n",
              "       13.3875    , 12.64833333, 13.39      , 10.9       , 15.85714286,\n",
              "       12.62857143, 14.23285714, 12.32      , 12.35      , 13.09090909,\n",
              "       15.94285714, 14.575     , 13.47      , 13.79857143, 10.64285714,\n",
              "       14.65      , 12.26666667, 10.375     , 14.44444444, 12.50625   ,\n",
              "       16.85714286, 15.11428571, 12.04      , 14.32857143, 11.71666667,\n",
              "       12.58      , 14.53571429, 11.6875    , 12.84142857, 17.11111111,\n",
              "       12.36      , 15.25      , 13.81375   , 11.9625    , 14.98571429,\n",
              "       13.78      , 13.805     , 14.42428571, 12.07142857, 14.11      ,\n",
              "        9.8       , 14.31666667, 12.72857143, 13.68142857, 11.94      ,\n",
              "       13.89428571, 13.46875   , 13.41625   , 15.3       , 14.61666667,\n",
              "       12.19230769, 13.9       , 11.61538462, 13.99571429, 12.88625   ,\n",
              "       14.50125   , 13.56875   , 14.15375   , 12.45428571, 13.27166667,\n",
              "       13.54833333, 13.2575    , 11.41666667, 11.15      , 11.67857143,\n",
              "       14.48571429, 12.65714286, 13.07142857, 13.126     , 15.69230769,\n",
              "       15.05263158, 12.93875   , 12.18      , 12.71857143, 11.64285714,\n",
              "       12.5125    , 13.48333333, 12.565     , 13.06      , 10.28571429,\n",
              "       12.27142857, 13.22222222, 13.15428571, 15.10142857, 12.41666667,\n",
              "       14.93333333, 14.455     , 12.32857143, 13.27142857, 12.58333333,\n",
              "       13.73166667, 12.49166667, 10.81818182, 12.87857143, 14.53846154,\n",
              "       12.73333333, 13.93714286, 13.6875    , 13.398     , 11.76923077,\n",
              "       13.08166667, 14.59444444, 13.17647059, 12.59125   , 11.89473684,\n",
              "       12.36571429, 16.83333333, 11.125     , 14.54      , 15.67571429,\n",
              "       13.18333333, 11.9725    , 13.95714286, 12.91      , 13.58      ,\n",
              "       12.88888889, 14.34125   , 14.20857143, 14.30714286, 14.21428571,\n",
              "       13.97142857, 15.07777778, 13.38333333, 13.01125   , 11.85      ,\n",
              "       12.32777778, 12.07692308, 11.23076923, 10.98571429, 16.13142857,\n",
              "       14.83857143, 13.9475    , 13.06666667, 13.74625   , 13.81714286,\n",
              "       15.53846154, 14.05714286, 13.29      , 13.86166667, 15.43333333,\n",
              "       15.11      , 15.79857143, 13.77571429, 14.71666667, 14.368     ,\n",
              "       12.08428571, 10.74444444, 13.4173913 , 13.24285714, 13.55714286,\n",
              "       14.09333333, 13.51428571, 12.74428571, 13.3125    , 14.95      ,\n",
              "       14.99285714, 13.01666667, 13.32714286, 11.832     , 12.41285714,\n",
              "       12.54571429, 12.51428571, 13.62857143, 13.73684211, 10.76923077,\n",
              "       12.47619048, 13.29166667, 14.24      , 14.10571429, 11.96666667,\n",
              "       13.3475    , 13.17571429, 13.74285714, 12.21714286, 11.07142857,\n",
              "       11.325     , 11.92307692, 14.88875   , 12.4125    , 14.9125    ])"
            ]
          },
          "metadata": {},
          "execution_count": 44
        }
      ],
      "source": [
        "df['Curricular units 1st sem (grade)'].unique()"
      ]
    },
    {
      "cell_type": "code",
      "execution_count": 45,
      "metadata": {
        "colab": {
          "base_uri": "https://localhost:8080/"
        },
        "id": "Uu49l7N0UD0Z",
        "outputId": "032bdc80-09c3-4eff-d147-8b064d628c02"
      },
      "outputs": [
        {
          "output_type": "execute_result",
          "data": {
            "text/plain": [
              "array([ 0,  1,  2,  4,  3,  6, 12, 10,  7,  5,  8])"
            ]
          },
          "metadata": {},
          "execution_count": 45
        }
      ],
      "source": [
        "df['Curricular units 1st sem (without evaluations)'].unique()"
      ]
    },
    {
      "cell_type": "code",
      "execution_count": 46,
      "metadata": {
        "colab": {
          "base_uri": "https://localhost:8080/"
        },
        "id": "AD0cUW-1UOR6",
        "outputId": "77d57b63-e1b0-4848-fb46-791a77e59795"
      },
      "outputs": [
        {
          "output_type": "execute_result",
          "data": {
            "text/plain": [
              "array([ 0,  1,  2,  5,  7,  4, 10,  3, 13,  9,  6, 11, 12,  8, 14, 15, 16,\n",
              "       18, 19])"
            ]
          },
          "metadata": {},
          "execution_count": 46
        }
      ],
      "source": [
        "df['Curricular units 2nd sem (credited)'].unique()"
      ]
    },
    {
      "cell_type": "code",
      "execution_count": 47,
      "metadata": {
        "colab": {
          "base_uri": "https://localhost:8080/"
        },
        "id": "3ZQ5cetUUcVy",
        "outputId": "b07415ad-0d9c-4bc3-cbe2-fce46bd966c7"
      },
      "outputs": [
        {
          "output_type": "execute_result",
          "data": {
            "text/plain": [
              "array([ 0,  6,  5,  8,  7, 11, 12,  9, 13, 19,  3, 10,  4, 17,  2,  1, 14,\n",
              "       15, 16, 23, 18, 21])"
            ]
          },
          "metadata": {},
          "execution_count": 47
        }
      ],
      "source": [
        "df['Curricular units 2nd sem (enrolled)'].unique()"
      ]
    },
    {
      "cell_type": "code",
      "execution_count": 48,
      "metadata": {
        "colab": {
          "base_uri": "https://localhost:8080/"
        },
        "id": "gtOCq8Zi_NV6",
        "outputId": "8ffc84bb-1abe-4ab7-806c-309618e2a240"
      },
      "outputs": [
        {
          "output_type": "execute_result",
          "data": {
            "text/plain": [
              "array([ 0,  6, 10, 17,  8,  5,  7, 14,  9, 12, 11, 13, 19,  3, 15, 16,  4,\n",
              "       18,  2, 21,  1, 26, 27, 22, 20, 24, 28, 23, 25, 33])"
            ]
          },
          "metadata": {},
          "execution_count": 48
        }
      ],
      "source": [
        "df['Curricular units 2nd sem (evaluations)'].unique()\n"
      ]
    },
    {
      "cell_type": "code",
      "execution_count": 49,
      "metadata": {
        "colab": {
          "base_uri": "https://localhost:8080/"
        },
        "id": "4YvIIsS5U9SG",
        "outputId": "ecf51ab0-abf6-4a7d-8223-c033effc1044"
      },
      "outputs": [
        {
          "output_type": "execute_result",
          "data": {
            "text/plain": [
              "array([ 0,  6,  5,  8,  2,  7,  4,  1,  3, 10, 13, 11, 19,  9, 12, 17, 14,\n",
              "       20, 16, 18])"
            ]
          },
          "metadata": {},
          "execution_count": 49
        }
      ],
      "source": [
        "df['Curricular units 2nd sem (approved)'].unique()"
      ]
    },
    {
      "cell_type": "code",
      "execution_count": 50,
      "metadata": {
        "colab": {
          "base_uri": "https://localhost:8080/"
        },
        "id": "izlhlmFJVHiG",
        "outputId": "738f036b-6a6c-4f93-f74b-4dfd801c3fb9"
      },
      "outputs": [
        {
          "output_type": "execute_result",
          "data": {
            "text/plain": [
              "array([ 0.        , 13.66666667, 12.4       , 13.        , 11.5       ,\n",
              "       14.345     , 14.14285714, 13.5       , 14.2       , 13.21428571,\n",
              "       11.        , 12.        , 14.545     , 12.25      , 11.425     ,\n",
              "       12.85714286, 12.28571429, 14.11428571, 13.28571429, 12.33333333,\n",
              "       13.71666667, 10.57142857, 13.4       , 14.375     , 13.42857143,\n",
              "       10.        , 11.6       , 15.8       , 14.34285714, 13.8       ,\n",
              "       14.33333333, 13.2       , 13.77142857, 12.83333333, 14.16666667,\n",
              "       11.83333333, 13.595     , 12.9       , 14.935     , 12.22142857,\n",
              "       12.42857143, 10.75      , 10.8       , 13.75      , 10.85714286,\n",
              "       13.33333333, 15.05555556, 11.66666667, 12.2       , 13.3       ,\n",
              "       11.33333333, 13.08      , 11.2       , 13.25      , 14.47777778,\n",
              "       14.23076923, 12.27272727, 12.3       , 15.        , 12.8       ,\n",
              "       12.57142857, 12.51666667, 10.66666667, 11.4       , 14.        ,\n",
              "       11.25      , 13.77777778, 15.01111111, 13.74285714, 14.6       ,\n",
              "       11.71428571, 12.5       , 14.83333333, 12.89285714, 17.5875    ,\n",
              "       12.66666667, 12.33125   , 14.17857143, 10.83333333, 11.8       ,\n",
              "       11.85714286, 12.6       , 12.76111111, 15.355     , 14.25714286,\n",
              "       10.5       , 13.5625    , 11.68333333, 13.16666667, 11.95      ,\n",
              "       10.4       , 14.58333333, 12.78947368, 13.05      , 12.24285714,\n",
              "       12.93375   , 14.42857143, 12.32428571, 12.91428571, 12.64285714,\n",
              "       12.91666667, 15.85714286, 13.3125    , 14.5       , 12.19285714,\n",
              "       14.9125    , 11.57142857, 14.25      , 10.33333333, 11.4625    ,\n",
              "       13.55555556, 13.6       , 12.36363636, 13.22      , 13.15142857,\n",
              "       10.6       , 12.16666667, 14.82857143, 13.67142857, 13.55      ,\n",
              "       15.42857143, 15.3875    , 13.775     , 13.81285714, 13.83333333,\n",
              "       13.385     , 14.72571429, 13.1375    , 12.86      , 13.71428571,\n",
              "       16.16888889, 10.25      , 15.14285714, 16.4       , 14.88181818,\n",
              "       14.35555556, 13.08333333, 13.05857143, 14.05555556, 14.66666667,\n",
              "       14.57142857, 13.39125   , 13.1       , 12.30769231, 16.42857143,\n",
              "       13.44285714, 13.98      , 15.75      , 14.03333333, 13.41428571,\n",
              "       13.57142857, 15.2875    , 10.97857143, 11.11111111, 11.16666667,\n",
              "       12.14      , 12.75      , 14.73142857, 14.8       , 14.65428571,\n",
              "       12.40142857, 14.07142857, 15.6       , 15.4       , 12.375     ,\n",
              "       13.09444444, 13.25375   , 14.1       , 13.91666667, 12.08285714,\n",
              "       13.81428571, 11.3       , 16.        , 12.69428571, 16.05      ,\n",
              "       14.0625    , 14.40285714, 13.38142857, 13.98375   , 14.09090909,\n",
              "       13.45454545, 12.625     , 13.26666667, 13.31      , 13.48714286,\n",
              "       13.96666667, 13.225     , 14.0375    , 14.31428571, 12.12857143,\n",
              "       11.75      , 14.4775    , 13.54285714, 11.875     , 12.77125   ,\n",
              "       11.72142857, 12.525     , 10.2       , 12.61      , 11.69      ,\n",
              "       11.28571429, 15.01818182, 15.18888889, 13.49666667, 12.5075    ,\n",
              "       13.625     , 14.71428571, 13.82857143, 12.61428571, 15.2       ,\n",
              "       13.825     , 14.55555556, 11.7       , 11.54545455, 11.46153846,\n",
              "       15.74444444, 15.8125    , 12.35571429, 11.98      , 12.35714286,\n",
              "       13.85714286, 13.78888889, 13.01875   , 13.73125   , 13.81111111,\n",
              "       12.04285714, 15.5       , 12.71428571, 12.62857143, 14.26875   ,\n",
              "       13.2125    , 11.45454545, 11.70833333, 14.44444444, 13.54545455,\n",
              "       13.55473684, 11.7375    , 11.22222222, 12.48125   , 12.38461538,\n",
              "       17.        , 14.85714286, 12.14285714, 15.77777778, 13.10571429,\n",
              "       14.4       , 17.6       , 16.575     , 11.18181818, 11.42857143,\n",
              "       13.94444444, 13.105     , 11.36363636, 13.29444444, 15.625     ,\n",
              "       12.7       , 14.63375   , 13.345     , 14.53714286, 13.22222222,\n",
              "       12.95      , 14.28571429, 13.62777778, 14.14444444, 13.16428571,\n",
              "       15.33333333, 14.01666667, 14.10625   , 12.82375   , 13.84285714,\n",
              "       11.58333333, 12.23333333, 12.6       , 15.35      , 12.46153846,\n",
              "       12.54545455, 12.8875    , 12.55      , 13.7       , 15.11111111,\n",
              "       11.70571429, 16.075     , 13.64285714, 14.75      , 11.125     ,\n",
              "       16.32727273, 17.42857143, 15.22857143, 13.19333333, 12.4125    ,\n",
              "       12.90909091, 12.98125   , 11.68      , 14.875     , 13.31428571,\n",
              "       15.57142857, 12.79142857, 12.43142857, 12.94285714, 16.0875    ,\n",
              "       15.1       , 15.8625    , 14.67142857, 14.56666667, 12.68571429,\n",
              "       14.445     , 14.625     , 13.41666667, 14.8125    , 13.61428571,\n",
              "       14.07125   , 14.90142857, 12.44555556, 13.32857143, 14.05142857,\n",
              "       13.11625   , 13.49375   , 16.58222222, 12.11428571, 13.05875   ,\n",
              "       15.1625    , 13.29714286, 13.48571429, 13.76      , 13.25857143,\n",
              "       12.6375    , 14.65285714, 11.14285714, 15.07      , 12.5125    ,\n",
              "       11.9       , 11.93333333, 12.96818182, 13.14285714, 12.04142857,\n",
              "       15.30769231, 15.16666667, 16.375     , 13.63      , 12.22857143,\n",
              "       16.37777778, 12.76428571, 15.68333333, 13.57625   , 15.83333333,\n",
              "       13.76375   , 14.35714286, 13.92571429, 13.74444444, 15.875     ,\n",
              "       16.2       , 11.78571429, 13.42375   , 12.46428571, 13.02428571,\n",
              "       18.57142857, 12.38      , 11.98857143, 12.88888889, 13.875     ,\n",
              "       13.41111111, 14.65      , 14.62222222, 13.9125    , 13.99444444,\n",
              "       11.68571429, 15.65714286, 13.33142857, 15.02857143, 12.58333333,\n",
              "       11.07692308, 13.35      , 13.88125   , 15.06875   , 12.34285714,\n",
              "       14.5125    , 12.90857143, 12.875     , 12.05555556, 12.55555556,\n",
              "       12.04166667, 10.98333333, 14.6875    , 10.84      , 12.45714286,\n",
              "       14.88888889, 13.58333333, 12.82857143, 11.32857143, 13.03333333,\n",
              "       10.92307692, 14.23125   , 13.24875   , 15.61111111, 16.14285714,\n",
              "       11.625     , 12.28125   , 10.44444444, 12.77777778, 12.81818182,\n",
              "       11.65      , 14.81818182, 12.91111111, 14.65555556, 14.3875    ,\n",
              "       14.36      , 14.51428571, 14.7       , 15.0625    , 15.66666667,\n",
              "       15.7425    , 15.075     , 13.76125   , 14.07777778, 12.76666667,\n",
              "       14.02222222, 15.63375   , 13.125     , 12.45      , 13.38125   ,\n",
              "       11.34      , 13.3425    , 13.03125   , 13.35714286, 12.84615385,\n",
              "       13.05375   , 16.5       , 15.57      , 15.91111111, 13.07571429,\n",
              "       13.51285714, 12.288     , 13.54444444, 13.72727273, 11.1       ,\n",
              "       14.86444444, 12.16      , 13.4275    , 12.36111111, 12.68888889,\n",
              "       13.55714286, 14.63636364, 11.725     , 12.18333333, 13.435     ,\n",
              "       12.17647059, 13.11666667, 15.6625    , 12.94428571, 14.26666667,\n",
              "       12.48375   , 15.3125    , 13.45      , 12.9375    , 13.21875   ,\n",
              "       13.3675    , 12.82571429, 13.8875    , 13.68333333, 14.9625    ,\n",
              "       14.035     , 12.33      , 12.46      , 14.80571429, 13.7125    ,\n",
              "       13.46153846, 13.24444444, 12.62142857, 14.14125   , 14.6625    ,\n",
              "       12.66875   , 11.38461538, 14.22222222, 12.9125    , 12.96666667,\n",
              "       14.36875   , 12.84285714, 11.225     , 15.125     , 13.06666667,\n",
              "       12.63636364, 13.3875    , 11.77777778, 14.3775    , 13.04285714,\n",
              "       14.15      , 12.47142857, 14.0475    , 12.63333333, 14.23333333,\n",
              "       15.7       , 13.78125   , 14.28625   , 16.8       , 12.82875   ,\n",
              "       12.75833333, 14.4375    , 12.72857143, 13.12555556, 15.092     ,\n",
              "       14.56571429, 14.96285714, 17.16666667, 14.77272727, 13.06363636,\n",
              "       13.40375   , 14.125     , 12.74285714, 13.12857143, 14.93571429,\n",
              "       13.90625   , 12.41666667, 12.4875    , 14.08571429, 11.50625   ,\n",
              "       15.28571429, 14.3       , 11.90909091, 11.44444444, 11.7125    ,\n",
              "       15.88571429, 11.58      , 11.35714286, 12.08333333, 17.69230769,\n",
              "       15.3       , 11.34714286, 12.18181818, 10.42857143, 13.375     ,\n",
              "       11.64285714, 13.07142857, 13.58571429, 13.61538462, 12.42      ,\n",
              "       13.0625    , 12.21428571, 13.08571429, 13.65625   , 13.2325    ,\n",
              "       13.07375   , 14.78888889, 14.4025    , 16.3875    , 14.98333333,\n",
              "       13.98333333, 11.61538462, 11.675     , 13.75555556, 14.38888889,\n",
              "       12.55375   , 12.66571429, 12.11764706, 12.002     , 13.86714286,\n",
              "       12.675     , 11.575     , 11.63571429, 11.55555556, 13.15      ,\n",
              "       12.52608696, 16.66666667, 13.20714286, 14.11571429, 13.11111111,\n",
              "       12.415     , 14.31285714, 14.01428571, 15.925     , 11.80833333,\n",
              "       11.88888889, 13.30625   , 13.11      , 14.41428571, 13.045     ,\n",
              "       12.858     , 14.2525    , 11.24285714, 15.07571429, 13.12222222,\n",
              "       12.6875    , 13.07285714, 12.11666667, 12.56      , 12.77142857,\n",
              "       13.18181818, 10.72727273, 12.2375    , 12.10526316, 16.6       ,\n",
              "       15.23076923, 14.575     , 12.41428571, 11.4375    , 14.06666667,\n",
              "       13.27625   , 12.32142857, 12.75714286, 13.67      , 11.97142857,\n",
              "       14.13714286, 14.1875    , 14.35      , 11.82      , 14.9       ,\n",
              "       12.18888889, 14.95555556, 14.4625    , 14.62777778, 14.53333333,\n",
              "       14.71875   , 15.9       , 12.20555556, 12.62857143, 14.23285714,\n",
              "       12.22222222, 12.575     , 15.94285714, 10.71428571, 13.32625   ,\n",
              "       12.32      , 14.75625   , 15.36666667, 11.55      , 14.86363636,\n",
              "       12.07142857, 12.78571429, 13.8375    , 15.11428571, 11.77142857,\n",
              "       11.78333333, 14.32857143, 16.33333333, 10.868     , 12.15714286,\n",
              "       14.53571429, 12.84142857, 13.81375   , 13.04444444, 14.98571429,\n",
              "       13.661     , 14.2725    , 13.9375    , 14.11      , 14.31666667,\n",
              "       10.16666667, 13.68142857, 12.61666667, 11.56666667, 14.3625    ,\n",
              "       13.31375   , 13.41625   , 14.61666667, 14.06      , 12.19230769,\n",
              "       13.9       , 12.06666667, 12.88625   , 13.88888889, 14.50125   ,\n",
              "       14.02625   , 14.15375   , 12.45428571, 12.94375   , 14.775     ,\n",
              "       13.2575    , 11.9625    , 12.81428571, 13.0375    , 14.58888889,\n",
              "       12.125     , 12.65714286, 13.126     , 11.375     , 13.79857143,\n",
              "       14.53846154, 12.93875   , 12.88      , 11.8125    , 12.80555556,\n",
              "       13.475     , 13.26666667, 13.48333333, 17.71428571, 13.65714286,\n",
              "       13.15428571, 16.09375   , 14.93333333, 13.91      , 12.32857143,\n",
              "       12.72727273, 14.47142857, 12.67142857, 12.49166667, 11.63636364,\n",
              "       11.85625   , 14.46153846, 13.93714286, 14.85      , 15.62222222,\n",
              "       13.5425    , 11.92857143, 12.38571429, 13.472     , 16.90909091,\n",
              "       12.82      , 12.92307692, 12.36571429, 14.54      , 12.73333333,\n",
              "       15.67571429, 13.82      , 13.18333333, 12.65125   , 13.95714286,\n",
              "       12.91      , 12.93625   , 14.34125   , 15.12777778, 15.0125    ,\n",
              "       14.21428571, 15.02352941, 13.38333333, 13.09090909, 13.01125   ,\n",
              "       13.65      , 11.736     , 14.51111111, 12.6125    , 15.25      ,\n",
              "       12.09090909, 14.2125    , 13.51666667, 15.52222222, 13.9475    ,\n",
              "       13.74625   , 13.81714286, 15.55555556, 11.95625   , 13.97142857,\n",
              "       13.29      , 15.43333333, 13.78      , 15.11      , 15.79857143,\n",
              "       15.6       , 12.48571429, 16.28571429, 14.71666667, 14.44875   ,\n",
              "       12.08428571, 12.15      , 11.8375    , 12.5625    , 13.4173913 ,\n",
              "       13.24285714, 12.05      , 14.51125   , 13.51428571, 12.74428571,\n",
              "       13.53333333, 14.75555556, 15.6375    , 13.92727273, 14.7375    ,\n",
              "       14.99285714, 13.01666667, 13.32714286, 10.375     , 11.832     ,\n",
              "       12.41285714, 12.54571429, 12.51428571, 12.21052632, 13.29166667,\n",
              "       14.24      , 13.6625    , 11.96666667, 13.3475    , 14.925     ,\n",
              "       12.11875   , 11.325     , 12.06375   , 14.88875   , 11.2625    ,\n",
              "       11.08333333])"
            ]
          },
          "metadata": {},
          "execution_count": 50
        }
      ],
      "source": [
        "df['Curricular units 2nd sem (grade)'].unique()"
      ]
    },
    {
      "cell_type": "code",
      "execution_count": 51,
      "metadata": {
        "colab": {
          "base_uri": "https://localhost:8080/"
        },
        "id": "IbqzjzeAVck-",
        "outputId": "7305159d-106c-4199-ceb2-767f5bbf1f06"
      },
      "outputs": [
        {
          "output_type": "execute_result",
          "data": {
            "text/plain": [
              "array([ 0,  5,  2,  1,  3,  6,  4, 12,  7,  8])"
            ]
          },
          "metadata": {},
          "execution_count": 51
        }
      ],
      "source": [
        "df['Curricular units 2nd sem (without evaluations)'].unique()"
      ]
    },
    {
      "cell_type": "code",
      "execution_count": 52,
      "metadata": {
        "colab": {
          "base_uri": "https://localhost:8080/"
        },
        "id": "vYHZlV-uVyh2",
        "outputId": "1dcba7c4-87b6-438f-a132-e64f2d2eea61"
      },
      "outputs": [
        {
          "output_type": "execute_result",
          "data": {
            "text/plain": [
              "array([10.8, 13.9,  9.4, 16.2, 15.5,  8.9, 12.7, 11.1,  7.6, 12.4])"
            ]
          },
          "metadata": {},
          "execution_count": 52
        }
      ],
      "source": [
        "df['Unemployment rate'].unique()"
      ]
    },
    {
      "cell_type": "code",
      "execution_count": 53,
      "metadata": {
        "colab": {
          "base_uri": "https://localhost:8080/"
        },
        "id": "Ha0ORASOWIm7",
        "outputId": "b4da851b-7691-476f-b28a-8a67e4d9c605"
      },
      "outputs": [
        {
          "output_type": "execute_result",
          "data": {
            "text/plain": [
              "array([ 1.4, -0.3, -0.8,  0.3,  2.8,  3.7,  0.6,  2.6,  0.5])"
            ]
          },
          "metadata": {},
          "execution_count": 53
        }
      ],
      "source": [
        "df['Inflation rate'].unique()"
      ]
    },
    {
      "cell_type": "code",
      "execution_count": 54,
      "metadata": {
        "colab": {
          "base_uri": "https://localhost:8080/"
        },
        "id": "ryBGxbSlWM-m",
        "outputId": "d73343dc-d552-4de8-a421-9b19a86227e3"
      },
      "outputs": [
        {
          "output_type": "execute_result",
          "data": {
            "text/plain": [
              "array([ 1.74,  0.79, -3.12, -0.92, -4.06,  3.51, -1.7 ,  2.02,  0.32,\n",
              "        1.79])"
            ]
          },
          "metadata": {},
          "execution_count": 54
        }
      ],
      "source": [
        "df['GDP'].unique()"
      ]
    },
    {
      "cell_type": "code",
      "execution_count": 55,
      "metadata": {
        "colab": {
          "base_uri": "https://localhost:8080/",
          "height": 596
        },
        "id": "sfusDfj5vujP",
        "outputId": "817a8f6e-f2ae-450f-9b01-e878daef6f82"
      },
      "outputs": [
        {
          "output_type": "display_data",
          "data": {
            "text/plain": [
              "<Figure size 1000x600 with 1 Axes>"
            ],
            "image/png": "[encoded data removed]"
          },
          "metadata": {}
        }
      ],
      "source": [
        "import seaborn as sns\n",
        "import matplotlib.pyplot as plt\n",
        "import seaborn as sns\n",
        "import matplotlib.pyplot as plt\n",
        "# Create a bar plot\n",
        "plt.figure(figsize=(10, 6))\n",
        "plt.bar(df['Target'].unique(),df['Target'].value_counts())\n",
        "V=plt.xticks(rotation=90)\n",
        "v=plt.yticks(rotation=90)\n",
        "plt.title('Target Distribution')\n",
        "plt.show()"
      ]
    },
    {
      "cell_type": "code",
      "execution_count": 56,
      "metadata": {
        "colab": {
          "base_uri": "https://localhost:8080/"
        },
        "id": "ZGT_c3d-TnH5",
        "outputId": "4cf59697-bcab-489e-adac-bfc9b5e3e48a"
      },
      "outputs": [
        {
          "output_type": "execute_result",
          "data": {
            "text/plain": [
              "(4424, 37)"
            ]
          },
          "metadata": {},
          "execution_count": 56
        }
      ],
      "source": [
        "df.shape"
      ]
    },
    {
      "cell_type": "code",
      "execution_count": 57,
      "metadata": {
        "colab": {
          "base_uri": "https://localhost:8080/"
        },
        "collapsed": true,
        "id": "0ykvD78pdFPM",
        "outputId": "17782ba0-44ec-40de-e61e-114999ae1186"
      },
      "outputs": [
        {
          "output_type": "stream",
          "name": "stdout",
          "text": [
            "ANOVA for GDP: F-value = 4.799008995763781, p-value = 0.008280870491705995\n",
            "ANOVA for Inflation: F-value = 1.7419897938269673, p-value = 0.17529171243976469\n",
            "ANOVA for Unemployment: F-value = 5.922513341612643, p-value = 0.002699757038015915\n",
            "T-test for Admission Grade: T-value = -6.237124913250986, p-value = 5.181457220403254e-10\n"
          ]
        }
      ],
      "source": [
        "#Hypothesis on the Target variable\n",
        "from scipy import stats\n",
        "\n",
        "# Subset the data based on target (Dropout, Enrolled, Graduate)\n",
        "dropout = df[df['Target'] == 'Dropout']\n",
        "graduate = df[df['Target'] == 'Graduate']\n",
        "enrolled = df[df['Target'] == 'Enrolled']\n",
        "\n",
        "\n",
        "# Perform ANOVA for GDP, Inflation, and Unemployment\n",
        "f_val, p_val = stats.f_oneway(dropout['GDP'], graduate['GDP'], enrolled['GDP'])\n",
        "print(f\"ANOVA for GDP: F-value = {f_val}, p-value = {p_val}\")\n",
        "\n",
        "f_val, p_val = stats.f_oneway(dropout['Inflation rate'], graduate['Inflation rate'], enrolled['Inflation rate'])\n",
        "print(f\"ANOVA for Inflation: F-value = {f_val}, p-value = {p_val}\")\n",
        "\n",
        "f_val, p_val = stats.f_oneway(dropout['Unemployment rate'], graduate['Unemployment rate'], enrolled['Unemployment rate'])\n",
        "print(f\"ANOVA for Unemployment: F-value = {f_val}, p-value = {p_val}\")\n",
        "\n",
        "from scipy import stats\n",
        "# Combine Graduate and Enrolled into one group\n",
        "non_dropout = df[df['Target'] != 'Dropout']\n",
        "\n",
        "# Perform a t-test for Admission Grade\n",
        "t_val, p_val = stats.ttest_ind(dropout['Admission grade'], non_dropout['Admission grade'], equal_var=False)\n",
        "print(f\"T-test for Admission Grade: T-value = {t_val}, p-value = {p_val}\")"
      ]
    },
    {
      "cell_type": "code",
      "execution_count": 58,
      "metadata": {
        "id": "Dm3in3a6Xmym"
      },
      "outputs": [],
      "source": [
        "#Encode categorical features\n",
        "from sklearn.preprocessing import LabelEncoder\n",
        "label=LabelEncoder()"
      ]
    },
    {
      "cell_type": "code",
      "execution_count": 59,
      "metadata": {
        "colab": {
          "base_uri": "https://localhost:8080/"
        },
        "id": "qL08cM4-Ofg_",
        "outputId": "967ce7c7-8661-4c7d-da83-acb825602df5"
      },
      "outputs": [
        {
          "output_type": "execute_result",
          "data": {
            "text/plain": [
              "Index(['Target'], dtype='object')"
            ]
          },
          "metadata": {},
          "execution_count": 59
        }
      ],
      "source": [
        "df.select_dtypes(include=['object']).columns"
      ]
    },
    {
      "cell_type": "code",
      "execution_count": 60,
      "metadata": {
        "id": "9clf9JqXkLAr"
      },
      "outputs": [],
      "source": [
        "#Converting your categorical data to numerical data\n",
        "df['Target']=label.fit_transform(df['Target'])"
      ]
    },
    {
      "cell_type": "code",
      "execution_count": 61,
      "metadata": {
        "colab": {
          "base_uri": "https://localhost:8080/",
          "height": 278
        },
        "id": "CBBbFnrwi8Ex",
        "outputId": "e1dce0df-26ca-440f-d523-993a69557d13"
      },
      "outputs": [
        {
          "output_type": "execute_result",
          "data": {
            "text/plain": [
              "   Marital status  Application mode  Application order  Course  \\\n",
              "0               1                17                  5     171   \n",
              "1               1                15                  1    9254   \n",
              "2               1                 1                  5    9070   \n",
              "3               1                17                  2    9773   \n",
              "4               2                39                  1    8014   \n",
              "\n",
              "   Daytime/evening attendance\\t  Previous qualification  \\\n",
              "0                             1                       1   \n",
              "1                             1                       1   \n",
              "2                             1                       1   \n",
              "3                             1                       1   \n",
              "4                             0                       1   \n",
              "\n",
              "   Previous qualification (grade)  Nacionality  Mother's qualification  \\\n",
              "0                           122.0            1                      19   \n",
              "1                           160.0            1                       1   \n",
              "2                           122.0            1                      37   \n",
              "3                           122.0            1                      38   \n",
              "4                           100.0            1                      37   \n",
              "\n",
              "   Father's qualification  Mother's occupation  Father's occupation  \\\n",
              "0                      12                    5                    9   \n",
              "1                       3                    3                    3   \n",
              "2                      37                    9                    9   \n",
              "3                      37                    5                    3   \n",
              "4                      38                    9                    9   \n",
              "\n",
              "   Admission grade  Displaced  Educational special needs  Debtor  \\\n",
              "0            127.3          1                          0       0   \n",
              "1            142.5          1                          0       0   \n",
              "2            124.8          1                          0       0   \n",
              "3            119.6          1                          0       0   \n",
              "4            141.5          0                          0       0   \n",
              "\n",
              "   Tuition fees up to date  Gender  Scholarship holder  Age at enrollment  \\\n",
              "0                        1       1                   0                 20   \n",
              "1                        0       1                   0                 19   \n",
              "2                        0       1                   0                 19   \n",
              "3                        1       0                   0                 20   \n",
              "4                        1       0                   0                 45   \n",
              "\n",
              "   International  Curricular units 1st sem (credited)  \\\n",
              "0              0                                    0   \n",
              "1              0                                    0   \n",
              "2              0                                    0   \n",
              "3              0                                    0   \n",
              "4              0                                    0   \n",
              "\n",
              "   Curricular units 1st sem (enrolled)  \\\n",
              "0                                    0   \n",
              "1                                    6   \n",
              "2                                    6   \n",
              "3                                    6   \n",
              "4                                    6   \n",
              "\n",
              "   Curricular units 1st sem (evaluations)  \\\n",
              "0                                       0   \n",
              "1                                       6   \n",
              "2                                       0   \n",
              "3                                       8   \n",
              "4                                       9   \n",
              "\n",
              "   Curricular units 1st sem (approved)  Curricular units 1st sem (grade)  \\\n",
              "0                                    0                          0.000000   \n",
              "1                                    6                         14.000000   \n",
              "2                                    0                          0.000000   \n",
              "3                                    6                         13.428571   \n",
              "4                                    5                         12.333333   \n",
              "\n",
              "   Curricular units 1st sem (without evaluations)  \\\n",
              "0                                               0   \n",
              "1                                               0   \n",
              "2                                               0   \n",
              "3                                               0   \n",
              "4                                               0   \n",
              "\n",
              "   Curricular units 2nd sem (credited)  Curricular units 2nd sem (enrolled)  \\\n",
              "0                                    0                                    0   \n",
              "1                                    0                                    6   \n",
              "2                                    0                                    6   \n",
              "3                                    0                                    6   \n",
              "4                                    0                                    6   \n",
              "\n",
              "   Curricular units 2nd sem (evaluations)  \\\n",
              "0                                       0   \n",
              "1                                       6   \n",
              "2                                       0   \n",
              "3                                      10   \n",
              "4                                       6   \n",
              "\n",
              "   Curricular units 2nd sem (approved)  Curricular units 2nd sem (grade)  \\\n",
              "0                                    0                          0.000000   \n",
              "1                                    6                         13.666667   \n",
              "2                                    0                          0.000000   \n",
              "3                                    5                         12.400000   \n",
              "4                                    6                         13.000000   \n",
              "\n",
              "   Curricular units 2nd sem (without evaluations)  Unemployment rate  \\\n",
              "0                                               0               10.8   \n",
              "1                                               0               13.9   \n",
              "2                                               0               10.8   \n",
              "3                                               0                9.4   \n",
              "4                                               0               13.9   \n",
              "\n",
              "   Inflation rate   GDP  Target  \n",
              "0             1.4  1.74       0  \n",
              "1            -0.3  0.79       2  \n",
              "2             1.4  1.74       0  \n",
              "3            -0.8 -3.12       2  \n",
              "4            -0.3  0.79       2  "
            ],
            "text/html": [
              "\n",
              "  <div id=\"df-19b8b0e0-7a3d-4697-b410-00f8cfac38bb\" class=\"colab-df-container\">\n",
              "    <div>\n",
              "<style scoped>\n",
              "    .dataframe tbody tr th:only-of-type {\n",
              "        vertical-align: middle;\n",
              "    }\n",
              "\n",
              "    .dataframe tbody tr th {\n",
              "        vertical-align: top;\n",
              "    }\n",
              "\n",
              "    .dataframe thead th {\n",
              "        text-align: right;\n",
              "    }\n",
              "</style>\n",
              "<table border=\"1\" class=\"dataframe\">\n",
              "  <thead>\n",
              "    <tr style=\"text-align: right;\">\n",
              "      <th></th>\n",
              "      <th>Marital status</th>\n",
              "      <th>Application mode</th>\n",
              "      <th>Application order</th>\n",
              "      <th>Course</th>\n",
              "      <th>Daytime/evening attendance\\t</th>\n",
              "      <th>Previous qualification</th>\n",
              "      <th>Previous qualification (grade)</th>\n",
              "      <th>Nacionality</th>\n",
              "      <th>Mother's qualification</th>\n",
              "      <th>Father's qualification</th>\n",
              "      <th>Mother's occupation</th>\n",
              "      <th>Father's occupation</th>\n",
              "      <th>Admission grade</th>\n",
              "      <th>Displaced</th>\n",
              "      <th>Educational special needs</th>\n",
              "      <th>Debtor</th>\n",
              "      <th>Tuition fees up to date</th>\n",
              "      <th>Gender</th>\n",
              "      <th>Scholarship holder</th>\n",
              "      <th>Age at enrollment</th>\n",
              "      <th>International</th>\n",
              "      <th>Curricular units 1st sem (credited)</th>\n",
              "      <th>Curricular units 1st sem (enrolled)</th>\n",
              "      <th>Curricular units 1st sem (evaluations)</th>\n",
              "      <th>Curricular units 1st sem (approved)</th>\n",
              "      <th>Curricular units 1st sem (grade)</th>\n",
              "      <th>Curricular units 1st sem (without evaluations)</th>\n",
              "      <th>Curricular units 2nd sem (credited)</th>\n",
              "      <th>Curricular units 2nd sem (enrolled)</th>\n",
              "      <th>Curricular units 2nd sem (evaluations)</th>\n",
              "      <th>Curricular units 2nd sem (approved)</th>\n",
              "      <th>Curricular units 2nd sem (grade)</th>\n",
              "      <th>Curricular units 2nd sem (without evaluations)</th>\n",
              "      <th>Unemployment rate</th>\n",
              "      <th>Inflation rate</th>\n",
              "      <th>GDP</th>\n",
              "      <th>Target</th>\n",
              "    </tr>\n",
              "  </thead>\n",
              "  <tbody>\n",
              "    <tr>\n",
              "      <th>0</th>\n",
              "      <td>1</td>\n",
              "      <td>17</td>\n",
              "      <td>5</td>\n",
              "      <td>171</td>\n",
              "      <td>1</td>\n",
              "      <td>1</td>\n",
              "      <td>122.0</td>\n",
              "      <td>1</td>\n",
              "      <td>19</td>\n",
              "      <td>12</td>\n",
              "      <td>5</td>\n",
              "      <td>9</td>\n",
              "      <td>127.3</td>\n",
              "      <td>1</td>\n",
              "      <td>0</td>\n",
              "      <td>0</td>\n",
              "      <td>1</td>\n",
              "      <td>1</td>\n",
              "      <td>0</td>\n",
              "      <td>20</td>\n",
              "      <td>0</td>\n",
              "      <td>0</td>\n",
              "      <td>0</td>\n",
              "      <td>0</td>\n",
              "      <td>0</td>\n",
              "      <td>0.000000</td>\n",
              "      <td>0</td>\n",
              "      <td>0</td>\n",
              "      <td>0</td>\n",
              "      <td>0</td>\n",
              "      <td>0</td>\n",
              "      <td>0.000000</td>\n",
              "      <td>0</td>\n",
              "      <td>10.8</td>\n",
              "      <td>1.4</td>\n",
              "      <td>1.74</td>\n",
              "      <td>0</td>\n",
              "    </tr>\n",
              "    <tr>\n",
              "      <th>1</th>\n",
              "      <td>1</td>\n",
              "      <td>15</td>\n",
              "      <td>1</td>\n",
              "      <td>9254</td>\n",
              "      <td>1</td>\n",
              "      <td>1</td>\n",
              "      <td>160.0</td>\n",
              "      <td>1</td>\n",
              "      <td>1</td>\n",
              "      <td>3</td>\n",
              "      <td>3</td>\n",
              "      <td>3</td>\n",
              "      <td>142.5</td>\n",
              "      <td>1</td>\n",
              "      <td>0</td>\n",
              "      <td>0</td>\n",
              "      <td>0</td>\n",
              "      <td>1</td>\n",
              "      <td>0</td>\n",
              "      <td>19</td>\n",
              "      <td>0</td>\n",
              "      <td>0</td>\n",
              "      <td>6</td>\n",
              "      <td>6</td>\n",
              "      <td>6</td>\n",
              "      <td>14.000000</td>\n",
              "      <td>0</td>\n",
              "      <td>0</td>\n",
              "      <td>6</td>\n",
              "      <td>6</td>\n",
              "      <td>6</td>\n",
              "      <td>13.666667</td>\n",
              "      <td>0</td>\n",
              "      <td>13.9</td>\n",
              "      <td>-0.3</td>\n",
              "      <td>0.79</td>\n",
              "      <td>2</td>\n",
              "    </tr>\n",
              "    <tr>\n",
              "      <th>2</th>\n",
              "      <td>1</td>\n",
              "      <td>1</td>\n",
              "      <td>5</td>\n",
              "      <td>9070</td>\n",
              "      <td>1</td>\n",
              "      <td>1</td>\n",
              "      <td>122.0</td>\n",
              "      <td>1</td>\n",
              "      <td>37</td>\n",
              "      <td>37</td>\n",
              "      <td>9</td>\n",
              "      <td>9</td>\n",
              "      <td>124.8</td>\n",
              "      <td>1</td>\n",
              "      <td>0</td>\n",
              "      <td>0</td>\n",
              "      <td>0</td>\n",
              "      <td>1</td>\n",
              "      <td>0</td>\n",
              "      <td>19</td>\n",
              "      <td>0</td>\n",
              "      <td>0</td>\n",
              "      <td>6</td>\n",
              "      <td>0</td>\n",
              "      <td>0</td>\n",
              "      <td>0.000000</td>\n",
              "      <td>0</td>\n",
              "      <td>0</td>\n",
              "      <td>6</td>\n",
              "      <td>0</td>\n",
              "      <td>0</td>\n",
              "      <td>0.000000</td>\n",
              "      <td>0</td>\n",
              "      <td>10.8</td>\n",
              "      <td>1.4</td>\n",
              "      <td>1.74</td>\n",
              "      <td>0</td>\n",
              "    </tr>\n",
              "    <tr>\n",
              "      <th>3</th>\n",
              "      <td>1</td>\n",
              "      <td>17</td>\n",
              "      <td>2</td>\n",
              "      <td>9773</td>\n",
              "      <td>1</td>\n",
              "      <td>1</td>\n",
              "      <td>122.0</td>\n",
              "      <td>1</td>\n",
              "      <td>38</td>\n",
              "      <td>37</td>\n",
              "      <td>5</td>\n",
              "      <td>3</td>\n",
              "      <td>119.6</td>\n",
              "      <td>1</td>\n",
              "      <td>0</td>\n",
              "      <td>0</td>\n",
              "      <td>1</td>\n",
              "      <td>0</td>\n",
              "      <td>0</td>\n",
              "      <td>20</td>\n",
              "      <td>0</td>\n",
              "      <td>0</td>\n",
              "      <td>6</td>\n",
              "      <td>8</td>\n",
              "      <td>6</td>\n",
              "      <td>13.428571</td>\n",
              "      <td>0</td>\n",
              "      <td>0</td>\n",
              "      <td>6</td>\n",
              "      <td>10</td>\n",
              "      <td>5</td>\n",
              "      <td>12.400000</td>\n",
              "      <td>0</td>\n",
              "      <td>9.4</td>\n",
              "      <td>-0.8</td>\n",
              "      <td>-3.12</td>\n",
              "      <td>2</td>\n",
              "    </tr>\n",
              "    <tr>\n",
              "      <th>4</th>\n",
              "      <td>2</td>\n",
              "      <td>39</td>\n",
              "      <td>1</td>\n",
              "      <td>8014</td>\n",
              "      <td>0</td>\n",
              "      <td>1</td>\n",
              "      <td>100.0</td>\n",
              "      <td>1</td>\n",
              "      <td>37</td>\n",
              "      <td>38</td>\n",
              "      <td>9</td>\n",
              "      <td>9</td>\n",
              "      <td>141.5</td>\n",
              "      <td>0</td>\n",
              "      <td>0</td>\n",
              "      <td>0</td>\n",
              "      <td>1</td>\n",
              "      <td>0</td>\n",
              "      <td>0</td>\n",
              "      <td>45</td>\n",
              "      <td>0</td>\n",
              "      <td>0</td>\n",
              "      <td>6</td>\n",
              "      <td>9</td>\n",
              "      <td>5</td>\n",
              "      <td>12.333333</td>\n",
              "      <td>0</td>\n",
              "      <td>0</td>\n",
              "      <td>6</td>\n",
              "      <td>6</td>\n",
              "      <td>6</td>\n",
              "      <td>13.000000</td>\n",
              "      <td>0</td>\n",
              "      <td>13.9</td>\n",
              "      <td>-0.3</td>\n",
              "      <td>0.79</td>\n",
              "      <td>2</td>\n",
              "    </tr>\n",
              "  </tbody>\n",
              "</table>\n",
              "</div>\n",
              "    <div class=\"colab-df-buttons\">\n",
              "\n",
              "  <div class=\"colab-df-container\">\n",
              "    <button class=\"colab-df-convert\" onclick=\"convertToInteractive('df-19b8b0e0-7a3d-4697-b410-00f8cfac38bb')\"\n",
              "            title=\"Convert this dataframe to an interactive table.\"\n",
              "            style=\"display:none;\">\n",
              "\n",
              "  <svg xmlns=\"http://www.w3.org/2000/svg\" height=\"24px\" viewBox=\"0 -960 960 960\">\n",
              "    <path d=\"M120-120v-720h720v720H120Zm60-500h600v-160H180v160Zm220 220h160v-160H400v160Zm0 220h160v-160H400v160ZM180-400h160v-160H180v160Zm440 0h160v-160H620v160ZM180-180h160v-160H180v160Zm440 0h160v-160H620v160Z\"/>\n",
              "  </svg>\n",
              "    </button>\n",
              "\n",
              "  <style>\n",
              "    .colab-df-container {\n",
              "      display:flex;\n",
              "      gap: 12px;\n",
              "    }\n",
              "\n",
              "    .colab-df-convert {\n",
              "      background-color: #E8F0FE;\n",
              "      border: none;\n",
              "      border-radius: 50%;\n",
              "      cursor: pointer;\n",
              "      display: none;\n",
              "      fill: #1967D2;\n",
              "      height: 32px;\n",
              "      padding: 0 0 0 0;\n",
              "      width: 32px;\n",
              "    }\n",
              "\n",
              "    .colab-df-convert:hover {\n",
              "      background-color: #E2EBFA;\n",
              "      box-shadow: 0px 1px 2px rgba(60, 64, 67, 0.3), 0px 1px 3px 1px rgba(60, 64, 67, 0.15);\n",
              "      fill: #174EA6;\n",
              "    }\n",
              "\n",
              "    .colab-df-buttons div {\n",
              "      margin-bottom: 4px;\n",
              "    }\n",
              "\n",
              "    [theme=dark] .colab-df-convert {\n",
              "      background-color: #3B4455;\n",
              "      fill: #D2E3FC;\n",
              "    }\n",
              "\n",
              "    [theme=dark] .colab-df-convert:hover {\n",
              "      background-color: #434B5C;\n",
              "      box-shadow: 0px 1px 3px 1px rgba(0, 0, 0, 0.15);\n",
              "      filter: drop-shadow(0px 1px 2px rgba(0, 0, 0, 0.3));\n",
              "      fill: #FFFFFF;\n",
              "    }\n",
              "  </style>\n",
              "\n",
              "    <script>\n",
              "      const buttonEl =\n",
              "        document.querySelector('#df-19b8b0e0-7a3d-4697-b410-00f8cfac38bb button.colab-df-convert');\n",
              "      buttonEl.style.display =\n",
              "        google.colab.kernel.accessAllowed ? 'block' : 'none';\n",
              "\n",
              "      async function convertToInteractive(key) {\n",
              "        const element = document.querySelector('#df-19b8b0e0-7a3d-4697-b410-00f8cfac38bb');\n",
              "        const dataTable =\n",
              "          await google.colab.kernel.invokeFunction('convertToInteractive',\n",
              "                                                    [key], {});\n",
              "        if (!dataTable) return;\n",
              "\n",
              "        const docLinkHtml = 'Like what you see? Visit the ' +\n",
              "          '<a target=\"_blank\" href=https://colab.research.google.com/notebooks/data_table.ipynb>data table notebook</a>'\n",
              "          + ' to learn more about interactive tables.';\n",
              "        element.innerHTML = '';\n",
              "        dataTable['output_type'] = 'display_data';\n",
              "        await google.colab.output.renderOutput(dataTable, element);\n",
              "        const docLink = document.createElement('div');\n",
              "        docLink.innerHTML = docLinkHtml;\n",
              "        element.appendChild(docLink);\n",
              "      }\n",
              "    </script>\n",
              "  </div>\n",
              "\n",
              "\n",
              "<div id=\"df-cb62ccfc-c895-4619-a009-b43988cbf810\">\n",
              "  <button class=\"colab-df-quickchart\" onclick=\"quickchart('df-cb62ccfc-c895-4619-a009-b43988cbf810')\"\n",
              "            title=\"Suggest charts\"\n",
              "            style=\"display:none;\">\n",
              "\n",
              "<svg xmlns=\"http://www.w3.org/2000/svg\" height=\"24px\"viewBox=\"0 0 24 24\"\n",
              "     width=\"24px\">\n",
              "    <g>\n",
              "        <path d=\"M19 3H5c-1.1 0-2 .9-2 2v14c0 1.1.9 2 2 2h14c1.1 0 2-.9 2-2V5c0-1.1-.9-2-2-2zM9 17H7v-7h2v7zm4 0h-2V7h2v10zm4 0h-2v-4h2v4z\"/>\n",
              "    </g>\n",
              "</svg>\n",
              "  </button>\n",
              "\n",
              "<style>\n",
              "  .colab-df-quickchart {\n",
              "      --bg-color: #E8F0FE;\n",
              "      --fill-color: #1967D2;\n",
              "      --hover-bg-color: #E2EBFA;\n",
              "      --hover-fill-color: #174EA6;\n",
              "      --disabled-fill-color: #AAA;\n",
              "      --disabled-bg-color: #DDD;\n",
              "  }\n",
              "\n",
              "  [theme=dark] .colab-df-quickchart {\n",
              "      --bg-color: #3B4455;\n",
              "      --fill-color: #D2E3FC;\n",
              "      --hover-bg-color: #434B5C;\n",
              "      --hover-fill-color: #FFFFFF;\n",
              "      --disabled-bg-color: #3B4455;\n",
              "      --disabled-fill-color: #666;\n",
              "  }\n",
              "\n",
              "  .colab-df-quickchart {\n",
              "    background-color: var(--bg-color);\n",
              "    border: none;\n",
              "    border-radius: 50%;\n",
              "    cursor: pointer;\n",
              "    display: none;\n",
              "    fill: var(--fill-color);\n",
              "    height: 32px;\n",
              "    padding: 0;\n",
              "    width: 32px;\n",
              "  }\n",
              "\n",
              "  .colab-df-quickchart:hover {\n",
              "    background-color: var(--hover-bg-color);\n",
              "    box-shadow: 0 1px 2px rgba(60, 64, 67, 0.3), 0 1px 3px 1px rgba(60, 64, 67, 0.15);\n",
              "    fill: var(--button-hover-fill-color);\n",
              "  }\n",
              "\n",
              "  .colab-df-quickchart-complete:disabled,\n",
              "  .colab-df-quickchart-complete:disabled:hover {\n",
              "    background-color: var(--disabled-bg-color);\n",
              "    fill: var(--disabled-fill-color);\n",
              "    box-shadow: none;\n",
              "  }\n",
              "\n",
              "  .colab-df-spinner {\n",
              "    border: 2px solid var(--fill-color);\n",
              "    border-color: transparent;\n",
              "    border-bottom-color: var(--fill-color);\n",
              "    animation:\n",
              "      spin 1s steps(1) infinite;\n",
              "  }\n",
              "\n",
              "  @keyframes spin {\n",
              "    0% {\n",
              "      border-color: transparent;\n",
              "      border-bottom-color: var(--fill-color);\n",
              "      border-left-color: var(--fill-color);\n",
              "    }\n",
              "    20% {\n",
              "      border-color: transparent;\n",
              "      border-left-color: var(--fill-color);\n",
              "      border-top-color: var(--fill-color);\n",
              "    }\n",
              "    30% {\n",
              "      border-color: transparent;\n",
              "      border-left-color: var(--fill-color);\n",
              "      border-top-color: var(--fill-color);\n",
              "      border-right-color: var(--fill-color);\n",
              "    }\n",
              "    40% {\n",
              "      border-color: transparent;\n",
              "      border-right-color: var(--fill-color);\n",
              "      border-top-color: var(--fill-color);\n",
              "    }\n",
              "    60% {\n",
              "      border-color: transparent;\n",
              "      border-right-color: var(--fill-color);\n",
              "    }\n",
              "    80% {\n",
              "      border-color: transparent;\n",
              "      border-right-color: var(--fill-color);\n",
              "      border-bottom-color: var(--fill-color);\n",
              "    }\n",
              "    90% {\n",
              "      border-color: transparent;\n",
              "      border-bottom-color: var(--fill-color);\n",
              "    }\n",
              "  }\n",
              "</style>\n",
              "\n",
              "  <script>\n",
              "    async function quickchart(key) {\n",
              "      const quickchartButtonEl =\n",
              "        document.querySelector('#' + key + ' button');\n",
              "      quickchartButtonEl.disabled = true;  // To prevent multiple clicks.\n",
              "      quickchartButtonEl.classList.add('colab-df-spinner');\n",
              "      try {\n",
              "        const charts = await google.colab.kernel.invokeFunction(\n",
              "            'suggestCharts', [key], {});\n",
              "      } catch (error) {\n",
              "        console.error('Error during call to suggestCharts:', error);\n",
              "      }\n",
              "      quickchartButtonEl.classList.remove('colab-df-spinner');\n",
              "      quickchartButtonEl.classList.add('colab-df-quickchart-complete');\n",
              "    }\n",
              "    (() => {\n",
              "      let quickchartButtonEl =\n",
              "        document.querySelector('#df-cb62ccfc-c895-4619-a009-b43988cbf810 button');\n",
              "      quickchartButtonEl.style.display =\n",
              "        google.colab.kernel.accessAllowed ? 'block' : 'none';\n",
              "    })();\n",
              "  </script>\n",
              "</div>\n",
              "\n",
              "    </div>\n",
              "  </div>\n"
            ],
            "application/vnd.google.colaboratory.intrinsic+json": {
              "type": "dataframe",
              "variable_name": "df"
            }
          },
          "metadata": {},
          "execution_count": 61
        }
      ],
      "source": [
        "df.head()"
      ]
    },
    {
      "cell_type": "code",
      "execution_count": 62,
      "metadata": {
        "colab": {
          "base_uri": "https://localhost:8080/"
        },
        "id": "QXoyD_eOqQSN",
        "outputId": "f6a53109-2f39-4ac3-f640-087c9f681c62"
      },
      "outputs": [
        {
          "output_type": "stream",
          "name": "stdout",
          "text": [
            "<class 'pandas.core.frame.DataFrame'>\n",
            "RangeIndex: 4424 entries, 0 to 4423\n",
            "Data columns (total 37 columns):\n",
            " #   Column                                          Non-Null Count  Dtype  \n",
            "---  ------                                          --------------  -----  \n",
            " 0   Marital status                                  4424 non-null   int64  \n",
            " 1   Application mode                                4424 non-null   int64  \n",
            " 2   Application order                               4424 non-null   int64  \n",
            " 3   Course                                          4424 non-null   int64  \n",
            " 4   Daytime/evening attendance\t                     4424 non-null   int64  \n",
            " 5   Previous qualification                          4424 non-null   int64  \n",
            " 6   Previous qualification (grade)                  4424 non-null   float64\n",
            " 7   Nacionality                                     4424 non-null   int64  \n",
            " 8   Mother's qualification                          4424 non-null   int64  \n",
            " 9   Father's qualification                          4424 non-null   int64  \n",
            " 10  Mother's occupation                             4424 non-null   int64  \n",
            " 11  Father's occupation                             4424 non-null   int64  \n",
            " 12  Admission grade                                 4424 non-null   float64\n",
            " 13  Displaced                                       4424 non-null   int64  \n",
            " 14  Educational special needs                       4424 non-null   int64  \n",
            " 15  Debtor                                          4424 non-null   int64  \n",
            " 16  Tuition fees up to date                         4424 non-null   int64  \n",
            " 17  Gender                                          4424 non-null   int64  \n",
            " 18  Scholarship holder                              4424 non-null   int64  \n",
            " 19  Age at enrollment                               4424 non-null   int64  \n",
            " 20  International                                   4424 non-null   int64  \n",
            " 21  Curricular units 1st sem (credited)             4424 non-null   int64  \n",
            " 22  Curricular units 1st sem (enrolled)             4424 non-null   int64  \n",
            " 23  Curricular units 1st sem (evaluations)          4424 non-null   int64  \n",
            " 24  Curricular units 1st sem (approved)             4424 non-null   int64  \n",
            " 25  Curricular units 1st sem (grade)                4424 non-null   float64\n",
            " 26  Curricular units 1st sem (without evaluations)  4424 non-null   int64  \n",
            " 27  Curricular units 2nd sem (credited)             4424 non-null   int64  \n",
            " 28  Curricular units 2nd sem (enrolled)             4424 non-null   int64  \n",
            " 29  Curricular units 2nd sem (evaluations)          4424 non-null   int64  \n",
            " 30  Curricular units 2nd sem (approved)             4424 non-null   int64  \n",
            " 31  Curricular units 2nd sem (grade)                4424 non-null   float64\n",
            " 32  Curricular units 2nd sem (without evaluations)  4424 non-null   int64  \n",
            " 33  Unemployment rate                               4424 non-null   float64\n",
            " 34  Inflation rate                                  4424 non-null   float64\n",
            " 35  GDP                                             4424 non-null   float64\n",
            " 36  Target                                          4424 non-null   int64  \n",
            "dtypes: float64(7), int64(30)\n",
            "memory usage: 1.2 MB\n"
          ]
        }
      ],
      "source": [
        "df.info()"
      ]
    },
    {
      "cell_type": "code",
      "execution_count": 79,
      "metadata": {
        "id": "lJcc8E9vdxLK"
      },
      "outputs": [],
      "source": [
        "#selecting  the features or columns\n",
        "\n",
        "x = df.drop(columns=['Target'],axis=1)\n",
        "y = df['Target'].values"
      ]
    },
    {
      "cell_type": "code",
      "source": [
        "len(x.columns)"
      ],
      "metadata": {
        "colab": {
          "base_uri": "https://localhost:8080/"
        },
        "id": "GAP4v0mHwFjs",
        "outputId": "2e369ea7-d2c8-4571-f498-c55548b85acd"
      },
      "execution_count": 81,
      "outputs": [
        {
          "output_type": "execute_result",
          "data": {
            "text/plain": [
              "36"
            ]
          },
          "metadata": {},
          "execution_count": 81
        }
      ]
    },
    {
      "cell_type": "code",
      "source": [
        "for i in x.columns:\n",
        "  print(i)"
      ],
      "metadata": {
        "colab": {
          "base_uri": "https://localhost:8080/"
        },
        "id": "rxC_wZ_iwoGv",
        "outputId": "3edd1c4a-dd2d-4d8e-dc7f-4ee669bfc418"
      },
      "execution_count": 83,
      "outputs": [
        {
          "output_type": "stream",
          "name": "stdout",
          "text": [
            "Marital status\n",
            "Application mode\n",
            "Application order\n",
            "Course\n",
            "Daytime/evening attendance\t\n",
            "Previous qualification\n",
            "Previous qualification (grade)\n",
            "Nacionality\n",
            "Mother's qualification\n",
            "Father's qualification\n",
            "Mother's occupation\n",
            "Father's occupation\n",
            "Admission grade\n",
            "Displaced\n",
            "Educational special needs\n",
            "Debtor\n",
            "Tuition fees up to date\n",
            "Gender\n",
            "Scholarship holder\n",
            "Age at enrollment\n",
            "International\n",
            "Curricular units 1st sem (credited)\n",
            "Curricular units 1st sem (enrolled)\n",
            "Curricular units 1st sem (evaluations)\n",
            "Curricular units 1st sem (approved)\n",
            "Curricular units 1st sem (grade)\n",
            "Curricular units 1st sem (without evaluations)\n",
            "Curricular units 2nd sem (credited)\n",
            "Curricular units 2nd sem (enrolled)\n",
            "Curricular units 2nd sem (evaluations)\n",
            "Curricular units 2nd sem (approved)\n",
            "Curricular units 2nd sem (grade)\n",
            "Curricular units 2nd sem (without evaluations)\n",
            "Unemployment rate\n",
            "Inflation rate\n",
            "GDP\n"
          ]
        }
      ]
    },
    {
      "cell_type": "code",
      "execution_count": 64,
      "metadata": {
        "id": "cD6fHHH2vJyd"
      },
      "outputs": [],
      "source": [
        "# Standardize data to avoid high variations in the data\n",
        "from sklearn.preprocessing import StandardScaler\n",
        "scaler = StandardScaler()\n",
        "x = scaler.fit_transform(x)"
      ]
    },
    {
      "cell_type": "code",
      "execution_count": 65,
      "metadata": {
        "id": "DMiofUh1vSUU"
      },
      "outputs": [],
      "source": [
        "#Split your dataset to training and test sets\n",
        "# Split data into 80% Training & 20% Testing\n",
        "x_train,x_test,y_train,y_test=train_test_split(x,y,test_size=0.2,random_state=30)"
      ]
    },
    {
      "cell_type": "code",
      "execution_count": 66,
      "metadata": {
        "id": "UOOXcME2vKW_"
      },
      "outputs": [],
      "source": [
        "#build and train an SVM model\n",
        "#from sklearn.svm import SVC\n",
        "#from sklearn.preprocessing import StandardScaler"
      ]
    },
    {
      "cell_type": "code",
      "execution_count": 67,
      "metadata": {
        "id": "_fshxZZ2EiBQ"
      },
      "outputs": [],
      "source": [
        "#import necessary packages\n",
        "from sklearn.model_selection import train_test_split\n",
        "#from imblearn.over_sampling import SMOTE\n",
        "from sklearn.metrics import accuracy_score, classification_report, confusion_matrix"
      ]
    },
    {
      "cell_type": "code",
      "execution_count": 68,
      "metadata": {
        "id": "6wxR6JdIESNM"
      },
      "outputs": [],
      "source": [
        "#using SMOTE to deal with imbalance data\n",
        "#smote = SMOTE(random_state=30)\n",
        "#x_train_oversampled, y_train_oversampled = smote.fit_resample(x_train, y_train)"
      ]
    },
    {
      "cell_type": "code",
      "execution_count": 69,
      "metadata": {
        "id": "fR-9IK79C68q"
      },
      "outputs": [],
      "source": [
        "#from sklearn.metrics import mean_squared_error, r2_score\n",
        "#from sklearn.impute import SimpleImputer\n",
        "#from sklearn.preprocessing import StandardScaler\n",
        "from sklearn.tree import DecisionTreeClassifier\n",
        "from sklearn.ensemble import RandomForestClassifier"
      ]
    },
    {
      "cell_type": "code",
      "execution_count": 70,
      "metadata": {
        "colab": {
          "base_uri": "https://localhost:8080/",
          "height": 81
        },
        "id": "o8lN6SpcBeYA",
        "outputId": "766c4af2-7f47-4872-946a-fca5df4149bb"
      },
      "outputs": [
        {
          "output_type": "execute_result",
          "data": {
            "text/plain": [
              "RandomForestClassifier()"
            ],
            "text/html": [
              "<style>#sk-container-id-1 {\n",
              "  /* Definition of color scheme common for light and dark mode */\n",
              "  --sklearn-color-text: black;\n",
              "  --sklearn-color-line: gray;\n",
              "  /* Definition of color scheme for unfitted estimators */\n",
              "  --sklearn-color-unfitted-level-0: #fff5e6;\n",
              "  --sklearn-color-unfitted-level-1: #f6e4d2;\n",
              "  --sklearn-color-unfitted-level-2: #ffe0b3;\n",
              "  --sklearn-color-unfitted-level-3: chocolate;\n",
              "  /* Definition of color scheme for fitted estimators */\n",
              "  --sklearn-color-fitted-level-0: #f0f8ff;\n",
              "  --sklearn-color-fitted-level-1: #d4ebff;\n",
              "  --sklearn-color-fitted-level-2: #b3dbfd;\n",
              "  --sklearn-color-fitted-level-3: cornflowerblue;\n",
              "\n",
              "  /* Specific color for light theme */\n",
              "  --sklearn-color-text-on-default-background: var(--sg-text-color, var(--theme-code-foreground, var(--jp-content-font-color1, black)));\n",
              "  --sklearn-color-background: var(--sg-background-color, var(--theme-background, var(--jp-layout-color0, white)));\n",
              "  --sklearn-color-border-box: var(--sg-text-color, var(--theme-code-foreground, var(--jp-content-font-color1, black)));\n",
              "  --sklearn-color-icon: #696969;\n",
              "\n",
              "  @media (prefers-color-scheme: dark) {\n",
              "    /* Redefinition of color scheme for dark theme */\n",
              "    --sklearn-color-text-on-default-background: var(--sg-text-color, var(--theme-code-foreground, var(--jp-content-font-color1, white)));\n",
              "    --sklearn-color-background: var(--sg-background-color, var(--theme-background, var(--jp-layout-color0, #111)));\n",
              "    --sklearn-color-border-box: var(--sg-text-color, var(--theme-code-foreground, var(--jp-content-font-color1, white)));\n",
              "    --sklearn-color-icon: #878787;\n",
              "  }\n",
              "}\n",
              "\n",
              "#sk-container-id-1 {\n",
              "  color: var(--sklearn-color-text);\n",
              "}\n",
              "\n",
              "#sk-container-id-1 pre {\n",
              "  padding: 0;\n",
              "}\n",
              "\n",
              "#sk-container-id-1 input.sk-hidden--visually {\n",
              "  border: 0;\n",
              "  clip: rect(1px 1px 1px 1px);\n",
              "  clip: rect(1px, 1px, 1px, 1px);\n",
              "  height: 1px;\n",
              "  margin: -1px;\n",
              "  overflow: hidden;\n",
              "  padding: 0;\n",
              "  position: absolute;\n",
              "  width: 1px;\n",
              "}\n",
              "\n",
              "#sk-container-id-1 div.sk-dashed-wrapped {\n",
              "  border: 1px dashed var(--sklearn-color-line);\n",
              "  margin: 0 0.4em 0.5em 0.4em;\n",
              "  box-sizing: border-box;\n",
              "  padding-bottom: 0.4em;\n",
              "  background-color: var(--sklearn-color-background);\n",
              "}\n",
              "\n",
              "#sk-container-id-1 div.sk-container {\n",
              "  /* jupyter's `normalize.less` sets `[hidden] { display: none; }`\n",
              "     but bootstrap.min.css set `[hidden] { display: none !important; }`\n",
              "     so we also need the `!important` here to be able to override the\n",
              "     default hidden behavior on the sphinx rendered scikit-learn.org.\n",
              "     See: https://github.com/scikit-learn/scikit-learn/issues/21755 */\n",
              "  display: inline-block !important;\n",
              "  position: relative;\n",
              "}\n",
              "\n",
              "#sk-container-id-1 div.sk-text-repr-fallback {\n",
              "  display: none;\n",
              "}\n",
              "\n",
              "div.sk-parallel-item,\n",
              "div.sk-serial,\n",
              "div.sk-item {\n",
              "  /* draw centered vertical line to link estimators */\n",
              "  background-image: linear-gradient(var(--sklearn-color-text-on-default-background), var(--sklearn-color-text-on-default-background));\n",
              "  background-size: 2px 100%;\n",
              "  background-repeat: no-repeat;\n",
              "  background-position: center center;\n",
              "}\n",
              "\n",
              "/* Parallel-specific style estimator block */\n",
              "\n",
              "#sk-container-id-1 div.sk-parallel-item::after {\n",
              "  content: \"\";\n",
              "  width: 100%;\n",
              "  border-bottom: 2px solid var(--sklearn-color-text-on-default-background);\n",
              "  flex-grow: 1;\n",
              "}\n",
              "\n",
              "#sk-container-id-1 div.sk-parallel {\n",
              "  display: flex;\n",
              "  align-items: stretch;\n",
              "  justify-content: center;\n",
              "  background-color: var(--sklearn-color-background);\n",
              "  position: relative;\n",
              "}\n",
              "\n",
              "#sk-container-id-1 div.sk-parallel-item {\n",
              "  display: flex;\n",
              "  flex-direction: column;\n",
              "}\n",
              "\n",
              "#sk-container-id-1 div.sk-parallel-item:first-child::after {\n",
              "  align-self: flex-end;\n",
              "  width: 50%;\n",
              "}\n",
              "\n",
              "#sk-container-id-1 div.sk-parallel-item:last-child::after {\n",
              "  align-self: flex-start;\n",
              "  width: 50%;\n",
              "}\n",
              "\n",
              "#sk-container-id-1 div.sk-parallel-item:only-child::after {\n",
              "  width: 0;\n",
              "}\n",
              "\n",
              "/* Serial-specific style estimator block */\n",
              "\n",
              "#sk-container-id-1 div.sk-serial {\n",
              "  display: flex;\n",
              "  flex-direction: column;\n",
              "  align-items: center;\n",
              "  background-color: var(--sklearn-color-background);\n",
              "  padding-right: 1em;\n",
              "  padding-left: 1em;\n",
              "}\n",
              "\n",
              "\n",
              "/* Toggleable style: style used for estimator/Pipeline/ColumnTransformer box that is\n",
              "clickable and can be expanded/collapsed.\n",
              "- Pipeline and ColumnTransformer use this feature and define the default style\n",
              "- Estimators will overwrite some part of the style using the `sk-estimator` class\n",
              "*/\n",
              "\n",
              "/* Pipeline and ColumnTransformer style (default) */\n",
              "\n",
              "#sk-container-id-1 div.sk-toggleable {\n",
              "  /* Default theme specific background. It is overwritten whether we have a\n",
              "  specific estimator or a Pipeline/ColumnTransformer */\n",
              "  background-color: var(--sklearn-color-background);\n",
              "}\n",
              "\n",
              "/* Toggleable label */\n",
              "#sk-container-id-1 label.sk-toggleable__label {\n",
              "  cursor: pointer;\n",
              "  display: block;\n",
              "  width: 100%;\n",
              "  margin-bottom: 0;\n",
              "  padding: 0.5em;\n",
              "  box-sizing: border-box;\n",
              "  text-align: center;\n",
              "}\n",
              "\n",
              "#sk-container-id-1 label.sk-toggleable__label-arrow:before {\n",
              "  /* Arrow on the left of the label */\n",
              "  content: \"▸\";\n",
              "  float: left;\n",
              "  margin-right: 0.25em;\n",
              "  color: var(--sklearn-color-icon);\n",
              "}\n",
              "\n",
              "#sk-container-id-1 label.sk-toggleable__label-arrow:hover:before {\n",
              "  color: var(--sklearn-color-text);\n",
              "}\n",
              "\n",
              "/* Toggleable content - dropdown */\n",
              "\n",
              "#sk-container-id-1 div.sk-toggleable__content {\n",
              "  max-height: 0;\n",
              "  max-width: 0;\n",
              "  overflow: hidden;\n",
              "  text-align: left;\n",
              "  /* unfitted */\n",
              "  background-color: var(--sklearn-color-unfitted-level-0);\n",
              "}\n",
              "\n",
              "#sk-container-id-1 div.sk-toggleable__content.fitted {\n",
              "  /* fitted */\n",
              "  background-color: var(--sklearn-color-fitted-level-0);\n",
              "}\n",
              "\n",
              "#sk-container-id-1 div.sk-toggleable__content pre {\n",
              "  margin: 0.2em;\n",
              "  border-radius: 0.25em;\n",
              "  color: var(--sklearn-color-text);\n",
              "  /* unfitted */\n",
              "  background-color: var(--sklearn-color-unfitted-level-0);\n",
              "}\n",
              "\n",
              "#sk-container-id-1 div.sk-toggleable__content.fitted pre {\n",
              "  /* unfitted */\n",
              "  background-color: var(--sklearn-color-fitted-level-0);\n",
              "}\n",
              "\n",
              "#sk-container-id-1 input.sk-toggleable__control:checked~div.sk-toggleable__content {\n",
              "  /* Expand drop-down */\n",
              "  max-height: 200px;\n",
              "  max-width: 100%;\n",
              "  overflow: auto;\n",
              "}\n",
              "\n",
              "#sk-container-id-1 input.sk-toggleable__control:checked~label.sk-toggleable__label-arrow:before {\n",
              "  content: \"▾\";\n",
              "}\n",
              "\n",
              "/* Pipeline/ColumnTransformer-specific style */\n",
              "\n",
              "#sk-container-id-1 div.sk-label input.sk-toggleable__control:checked~label.sk-toggleable__label {\n",
              "  color: var(--sklearn-color-text);\n",
              "  background-color: var(--sklearn-color-unfitted-level-2);\n",
              "}\n",
              "\n",
              "#sk-container-id-1 div.sk-label.fitted input.sk-toggleable__control:checked~label.sk-toggleable__label {\n",
              "  background-color: var(--sklearn-color-fitted-level-2);\n",
              "}\n",
              "\n",
              "/* Estimator-specific style */\n",
              "\n",
              "/* Colorize estimator box */\n",
              "#sk-container-id-1 div.sk-estimator input.sk-toggleable__control:checked~label.sk-toggleable__label {\n",
              "  /* unfitted */\n",
              "  background-color: var(--sklearn-color-unfitted-level-2);\n",
              "}\n",
              "\n",
              "#sk-container-id-1 div.sk-estimator.fitted input.sk-toggleable__control:checked~label.sk-toggleable__label {\n",
              "  /* fitted */\n",
              "  background-color: var(--sklearn-color-fitted-level-2);\n",
              "}\n",
              "\n",
              "#sk-container-id-1 div.sk-label label.sk-toggleable__label,\n",
              "#sk-container-id-1 div.sk-label label {\n",
              "  /* The background is the default theme color */\n",
              "  color: var(--sklearn-color-text-on-default-background);\n",
              "}\n",
              "\n",
              "/* On hover, darken the color of the background */\n",
              "#sk-container-id-1 div.sk-label:hover label.sk-toggleable__label {\n",
              "  color: var(--sklearn-color-text);\n",
              "  background-color: var(--sklearn-color-unfitted-level-2);\n",
              "}\n",
              "\n",
              "/* Label box, darken color on hover, fitted */\n",
              "#sk-container-id-1 div.sk-label.fitted:hover label.sk-toggleable__label.fitted {\n",
              "  color: var(--sklearn-color-text);\n",
              "  background-color: var(--sklearn-color-fitted-level-2);\n",
              "}\n",
              "\n",
              "/* Estimator label */\n",
              "\n",
              "#sk-container-id-1 div.sk-label label {\n",
              "  font-family: monospace;\n",
              "  font-weight: bold;\n",
              "  display: inline-block;\n",
              "  line-height: 1.2em;\n",
              "}\n",
              "\n",
              "#sk-container-id-1 div.sk-label-container {\n",
              "  text-align: center;\n",
              "}\n",
              "\n",
              "/* Estimator-specific */\n",
              "#sk-container-id-1 div.sk-estimator {\n",
              "  font-family: monospace;\n",
              "  border: 1px dotted var(--sklearn-color-border-box);\n",
              "  border-radius: 0.25em;\n",
              "  box-sizing: border-box;\n",
              "  margin-bottom: 0.5em;\n",
              "  /* unfitted */\n",
              "  background-color: var(--sklearn-color-unfitted-level-0);\n",
              "}\n",
              "\n",
              "#sk-container-id-1 div.sk-estimator.fitted {\n",
              "  /* fitted */\n",
              "  background-color: var(--sklearn-color-fitted-level-0);\n",
              "}\n",
              "\n",
              "/* on hover */\n",
              "#sk-container-id-1 div.sk-estimator:hover {\n",
              "  /* unfitted */\n",
              "  background-color: var(--sklearn-color-unfitted-level-2);\n",
              "}\n",
              "\n",
              "#sk-container-id-1 div.sk-estimator.fitted:hover {\n",
              "  /* fitted */\n",
              "  background-color: var(--sklearn-color-fitted-level-2);\n",
              "}\n",
              "\n",
              "/* Specification for estimator info (e.g. \"i\" and \"?\") */\n",
              "\n",
              "/* Common style for \"i\" and \"?\" */\n",
              "\n",
              ".sk-estimator-doc-link,\n",
              "a:link.sk-estimator-doc-link,\n",
              "a:visited.sk-estimator-doc-link {\n",
              "  float: right;\n",
              "  font-size: smaller;\n",
              "  line-height: 1em;\n",
              "  font-family: monospace;\n",
              "  background-color: var(--sklearn-color-background);\n",
              "  border-radius: 1em;\n",
              "  height: 1em;\n",
              "  width: 1em;\n",
              "  text-decoration: none !important;\n",
              "  margin-left: 1ex;\n",
              "  /* unfitted */\n",
              "  border: var(--sklearn-color-unfitted-level-1) 1pt solid;\n",
              "  color: var(--sklearn-color-unfitted-level-1);\n",
              "}\n",
              "\n",
              ".sk-estimator-doc-link.fitted,\n",
              "a:link.sk-estimator-doc-link.fitted,\n",
              "a:visited.sk-estimator-doc-link.fitted {\n",
              "  /* fitted */\n",
              "  border: var(--sklearn-color-fitted-level-1) 1pt solid;\n",
              "  color: var(--sklearn-color-fitted-level-1);\n",
              "}\n",
              "\n",
              "/* On hover */\n",
              "div.sk-estimator:hover .sk-estimator-doc-link:hover,\n",
              ".sk-estimator-doc-link:hover,\n",
              "div.sk-label-container:hover .sk-estimator-doc-link:hover,\n",
              ".sk-estimator-doc-link:hover {\n",
              "  /* unfitted */\n",
              "  background-color: var(--sklearn-color-unfitted-level-3);\n",
              "  color: var(--sklearn-color-background);\n",
              "  text-decoration: none;\n",
              "}\n",
              "\n",
              "div.sk-estimator.fitted:hover .sk-estimator-doc-link.fitted:hover,\n",
              ".sk-estimator-doc-link.fitted:hover,\n",
              "div.sk-label-container:hover .sk-estimator-doc-link.fitted:hover,\n",
              ".sk-estimator-doc-link.fitted:hover {\n",
              "  /* fitted */\n",
              "  background-color: var(--sklearn-color-fitted-level-3);\n",
              "  color: var(--sklearn-color-background);\n",
              "  text-decoration: none;\n",
              "}\n",
              "\n",
              "/* Span, style for the box shown on hovering the info icon */\n",
              ".sk-estimator-doc-link span {\n",
              "  display: none;\n",
              "  z-index: 9999;\n",
              "  position: relative;\n",
              "  font-weight: normal;\n",
              "  right: .2ex;\n",
              "  padding: .5ex;\n",
              "  margin: .5ex;\n",
              "  width: min-content;\n",
              "  min-width: 20ex;\n",
              "  max-width: 50ex;\n",
              "  color: var(--sklearn-color-text);\n",
              "  box-shadow: 2pt 2pt 4pt #999;\n",
              "  /* unfitted */\n",
              "  background: var(--sklearn-color-unfitted-level-0);\n",
              "  border: .5pt solid var(--sklearn-color-unfitted-level-3);\n",
              "}\n",
              "\n",
              ".sk-estimator-doc-link.fitted span {\n",
              "  /* fitted */\n",
              "  background: var(--sklearn-color-fitted-level-0);\n",
              "  border: var(--sklearn-color-fitted-level-3);\n",
              "}\n",
              "\n",
              ".sk-estimator-doc-link:hover span {\n",
              "  display: block;\n",
              "}\n",
              "\n",
              "/* \"?\"-specific style due to the `<a>` HTML tag */\n",
              "\n",
              "#sk-container-id-1 a.estimator_doc_link {\n",
              "  float: right;\n",
              "  font-size: 1rem;\n",
              "  line-height: 1em;\n",
              "  font-family: monospace;\n",
              "  background-color: var(--sklearn-color-background);\n",
              "  border-radius: 1rem;\n",
              "  height: 1rem;\n",
              "  width: 1rem;\n",
              "  text-decoration: none;\n",
              "  /* unfitted */\n",
              "  color: var(--sklearn-color-unfitted-level-1);\n",
              "  border: var(--sklearn-color-unfitted-level-1) 1pt solid;\n",
              "}\n",
              "\n",
              "#sk-container-id-1 a.estimator_doc_link.fitted {\n",
              "  /* fitted */\n",
              "  border: var(--sklearn-color-fitted-level-1) 1pt solid;\n",
              "  color: var(--sklearn-color-fitted-level-1);\n",
              "}\n",
              "\n",
              "/* On hover */\n",
              "#sk-container-id-1 a.estimator_doc_link:hover {\n",
              "  /* unfitted */\n",
              "  background-color: var(--sklearn-color-unfitted-level-3);\n",
              "  color: var(--sklearn-color-background);\n",
              "  text-decoration: none;\n",
              "}\n",
              "\n",
              "#sk-container-id-1 a.estimator_doc_link.fitted:hover {\n",
              "  /* fitted */\n",
              "  background-color: var(--sklearn-color-fitted-level-3);\n",
              "}\n",
              "</style><div id=\"sk-container-id-1\" class=\"sk-top-container\"><div class=\"sk-text-repr-fallback\"><pre>RandomForestClassifier()</pre><b>In a Jupyter environment, please rerun this cell to show the HTML representation or trust the notebook. <br />On GitHub, the HTML representation is unable to render, please try loading this page with nbviewer.org.</b></div><div class=\"sk-container\" hidden><div class=\"sk-item\"><div class=\"sk-estimator fitted sk-toggleable\"><input class=\"sk-toggleable__control sk-hidden--visually\" id=\"sk-estimator-id-1\" type=\"checkbox\" checked><label for=\"sk-estimator-id-1\" class=\"sk-toggleable__label fitted sk-toggleable__label-arrow fitted\">&nbsp;&nbsp;RandomForestClassifier<a class=\"sk-estimator-doc-link fitted\" rel=\"noreferrer\" target=\"_blank\" href=\"https://scikit-learn.org/1.5/modules/generated/sklearn.ensemble.RandomForestClassifier.html\">?<span>Documentation for RandomForestClassifier</span></a><span class=\"sk-estimator-doc-link fitted\">i<span>Fitted</span></span></label><div class=\"sk-toggleable__content fitted\"><pre>RandomForestClassifier()</pre></div> </div></div></div></div>"
            ]
          },
          "metadata": {},
          "execution_count": 70
        }
      ],
      "source": [
        "#rf_classifier = DecisionTreeClassifier() # Instantiate model\n",
        "rf_classifier= RandomForestClassifier ()\n",
        "rf_classifier.fit(x_train, y_train) # Fit or train model with train dataset"
      ]
    },
    {
      "cell_type": "code",
      "execution_count": 71,
      "metadata": {
        "id": "racChF3mStqH"
      },
      "outputs": [],
      "source": [
        "predicted_rf =rf_classifier.predict(x_test) # Predict test data with the model"
      ]
    },
    {
      "cell_type": "code",
      "execution_count": 72,
      "metadata": {
        "id": "yBItIibjS7TP"
      },
      "outputs": [],
      "source": [
        "# Check for model performance on Testing data\n",
        "#print(\"R squared\",r2_score(y_test,predicted_rf))"
      ]
    },
    {
      "cell_type": "code",
      "execution_count": 73,
      "metadata": {
        "colab": {
          "base_uri": "https://localhost:8080/"
        },
        "id": "YsA4YP3UaTkV",
        "outputId": "59165d9f-52c8-4b60-c5d4-d3ba26332020"
      },
      "outputs": [
        {
          "output_type": "stream",
          "name": "stdout",
          "text": [
            "Accuracy:0.76\n",
            "classification Report:\n",
            "               precision    recall  f1-score   support\n",
            "\n",
            "           0       0.78      0.78      0.78       295\n",
            "           1       0.60      0.33      0.42       172\n",
            "           2       0.78      0.93      0.85       418\n",
            "\n",
            "    accuracy                           0.76       885\n",
            "   macro avg       0.72      0.68      0.68       885\n",
            "weighted avg       0.75      0.76      0.74       885\n",
            "\n"
          ]
        }
      ],
      "source": [
        "accuracy_df =accuracy_score(y_test, predicted_rf)\n",
        "Report=classification_report(y_test,predicted_rf)\n",
        "\n",
        "print(f'Accuracy:{accuracy_df:.2f}')\n",
        "print('classification Report:\\n',Report)"
      ]
    },
    {
      "cell_type": "code",
      "execution_count": 75,
      "metadata": {
        "colab": {
          "base_uri": "https://localhost:8080/"
        },
        "id": "e3OPQpfDJiZz",
        "outputId": "d1f152d4-42ee-4672-e6e0-67f9b84f0534"
      },
      "outputs": [
        {
          "output_type": "stream",
          "name": "stdout",
          "text": [
            "Confusion Matrix:\n",
            " [[229  20  46]\n",
            " [ 52  56  64]\n",
            " [ 11  17 390]]\n"
          ]
        }
      ],
      "source": [
        "# Check for model performance on Training data\n",
        "# Use accuracy_score for classification\n",
        "#print(\"Accuracy:\", accuracy_score(y_train, train_pred))\n",
        "\n",
        "# Generate a classification report\n",
        "#print(classification_report(y_train, train_pred))\n",
        "\n",
        "# Display the confusion matrix\n",
        "print(\"Confusion Matrix:\\n\", confusion_matrix(y_test, predicted_rf))"
      ]
    },
    {
      "cell_type": "code",
      "execution_count": 76,
      "metadata": {
        "colab": {
          "base_uri": "https://localhost:8080/",
          "height": 564
        },
        "id": "kz3MOthGIiUc",
        "outputId": "499aff2c-b904-4260-db74-a0da4547f907"
      },
      "outputs": [
        {
          "output_type": "display_data",
          "data": {
            "text/plain": [
              "<Figure size 800x600 with 2 Axes>"
            ],
            "image/png": "[encoded data removed]"
          },
          "metadata": {}
        }
      ],
      "source": [
        "#sing confusion matrix to visulaize and summarize the performance\n",
        "conf_matrix= confusion_matrix(y_test, predicted_rf)\n",
        "plt.figure(figsize=(8,6))\n",
        "sns.heatmap(conf_matrix, annot=True, fmt='d', cmap='Blues', xticklabels=[0, 1], yticklabels=[0, 1])\n",
        "plt.title('Confusion matrix - RandomForest')\n",
        "plt.xlabel('Predicted')\n",
        "plt.ylabel('Actual')\n",
        "plt.show()"
      ]
    },
    {
      "cell_type": "markdown",
      "metadata": {
        "id": "qDXbHosFTVjo"
      },
      "source": [
        "MODEL PREDICTION:\n",
        "I tried classification as shown above only for comparism and deep analysis;\n",
        "\n",
        "But i chose and made my prediction using classification but it gives a clear result. its pre\n",
        "dicted the best result.\n"
      ]
    },
    {
      "cell_type": "code",
      "execution_count": 77,
      "metadata": {
        "id": "7rDQDQkJyW7E",
        "colab": {
          "base_uri": "https://localhost:8080/"
        },
        "outputId": "ab0b2f78-4ffc-4332-8ee4-2358534812ef"
      },
      "outputs": [
        {
          "output_type": "stream",
          "name": "stdout",
          "text": [
            "Collecting pypickle\n",
            "  Downloading pypickle-1.1.0-py3-none-any.whl.metadata (2.9 kB)\n",
            "Downloading pypickle-1.1.0-py3-none-any.whl (5.1 kB)\n",
            "Installing collected packages: pypickle\n",
            "Successfully installed pypickle-1.1.0\n"
          ]
        }
      ],
      "source": [
        "!pip install pypickle"
      ]
    },
    {
      "cell_type": "code",
      "execution_count": 78,
      "metadata": {
        "id": "ZFU8x1HByxI_",
        "colab": {
          "base_uri": "https://localhost:8080/"
        },
        "outputId": "6b4653b5-69d7-489f-e8fb-df3534042d50"
      },
      "outputs": [
        {
          "output_type": "stream",
          "name": "stdout",
          "text": [
            "[pypickle] Pickle file saved: [Student.pkl]\n"
          ]
        },
        {
          "output_type": "execute_result",
          "data": {
            "text/plain": [
              "True"
            ]
          },
          "metadata": {},
          "execution_count": 78
        }
      ],
      "source": [
        "import pypickle\n",
        "filepath = 'Student.pkl'\n",
        "pypickle.save(filepath, rf_classifier)"
      ]
    },
    {
      "cell_type": "code",
      "source": [],
      "metadata": {
        "id": "tFy9Q8b6bkc5"
      },
      "execution_count": null,
      "outputs": []
    }
  ],
  "metadata": {
    "colab": {
      "provenance": []
    },
    "kernelspec": {
      "display_name": "Python 3",
      "name": "python3"
    },
    "language_info": {
      "name": "python"
    }
  },
  "nbformat": 4,
  "nbformat_minor": 0
}